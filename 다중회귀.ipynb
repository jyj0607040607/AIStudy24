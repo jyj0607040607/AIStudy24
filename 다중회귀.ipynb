{
  "nbformat": 4,
  "nbformat_minor": 0,
  "metadata": {
    "colab": {
      "provenance": [],
      "authorship_tag": "ABX9TyOaVZX60kJTDG14nuRJpDvX",
      "include_colab_link": true
    },
    "kernelspec": {
      "name": "python3",
      "display_name": "Python 3"
    },
    "language_info": {
      "name": "python"
    }
  },
  "cells": [
    {
      "cell_type": "markdown",
      "metadata": {
        "id": "view-in-github",
        "colab_type": "text"
      },
      "source": [
        "<a href=\"https://colab.research.google.com/github/jyj0607040607/AIStudy24/blob/master/%EB%8B%A4%EC%A4%91%ED%9A%8C%EA%B7%80.ipynb\" target=\"_parent\"><img src=\"https://colab.research.google.com/assets/colab-badge.svg\" alt=\"Open In Colab\"/></a>"
      ]
    },
    {
      "cell_type": "markdown",
      "source": [
        "특성 공학 :\n",
        "\n",
        "*   여러 특성을 사용한 다중회귀에 대해서 알아보자\n",
        "*   다항 회귀로는 농어의 무게를 어느정도인지 짐작할 수 있다.(과소적합?)\n",
        "*   과소적합을 해결하려면 제곱보다 더 고차항을 넣어야함. -> 길이 + 무게 + 높이 + 두께 등...\n",
        "\n",
        "\n",
        "\n",
        "\n"
      ],
      "metadata": {
        "id": "AEOwQpgYcOl3"
      }
    },
    {
      "cell_type": "code",
      "execution_count": null,
      "metadata": {
        "id": "AGXeJlZIbEeF"
      },
      "outputs": [],
      "source": [
        "# 다중회귀 : 여러개의 특성을 사용한 선형회귀\n",
        "\n",
        "# 농어의 길이 뿐만 아니라 농어의 높이와 두께도 특성에 포함 하겠다.\n",
        "# 3개의 특성을 제곱하여 추가해야 한다.\n",
        "# 각 특성을 서로 곱해서 또 다른 특성을 만들수 있다.\n",
        "# 이런 특성을 사용해서 새로운 특성을 뽑아내는 것을 특성공학이라고 한다."
      ]
    },
    {
      "cell_type": "code",
      "source": [
        "# 데이터 준비 -> 판다스에서 제공하는 데이터 프레임을 사용해보자.\n",
        "# 판다스 : 데이터분석용 라이브러리임 (csv -> 배열로)\n",
        "# csv 파일은 엑셀에서 텍스트를 뽑아낸 메모장 파일\n",
        "\n",
        "import pandas as pd     # 관례적인 판다스 별칭\n",
        "# 다중 회귀 : 물고기의 길이와 무게도 있지만 너비도 존재하니\n",
        "# 더 자세한 회귀가 도출 될꺼야 (3차원 공간을 형성함)\n",
        "\n",
        "df = pd.read_csv('https://bit.ly/perch_csv_data')\n",
        "perch_full = df.to_numpy()\n",
        "print(perch_full)"
      ],
      "metadata": {
        "colab": {
          "base_uri": "https://localhost:8080/"
        },
        "id": "6ynrGGIjesxW",
        "outputId": "034c63f1-1cd5-474d-8a4d-ba3b12682b8c"
      },
      "execution_count": 1,
      "outputs": [
        {
          "output_type": "stream",
          "name": "stdout",
          "text": [
            "[[ 8.4   2.11  1.41]\n",
            " [13.7   3.53  2.  ]\n",
            " [15.    3.82  2.43]\n",
            " [16.2   4.59  2.63]\n",
            " [17.4   4.59  2.94]\n",
            " [18.    5.22  3.32]\n",
            " [18.7   5.2   3.12]\n",
            " [19.    5.64  3.05]\n",
            " [19.6   5.14  3.04]\n",
            " [20.    5.08  2.77]\n",
            " [21.    5.69  3.56]\n",
            " [21.    5.92  3.31]\n",
            " [21.    5.69  3.67]\n",
            " [21.3   6.38  3.53]\n",
            " [22.    6.11  3.41]\n",
            " [22.    5.64  3.52]\n",
            " [22.    6.11  3.52]\n",
            " [22.    5.88  3.52]\n",
            " [22.    5.52  4.  ]\n",
            " [22.5   5.86  3.62]\n",
            " [22.5   6.79  3.62]\n",
            " [22.7   5.95  3.63]\n",
            " [23.    5.22  3.63]\n",
            " [23.5   6.28  3.72]\n",
            " [24.    7.29  3.72]\n",
            " [24.    6.38  3.82]\n",
            " [24.6   6.73  4.17]\n",
            " [25.    6.44  3.68]\n",
            " [25.6   6.56  4.24]\n",
            " [26.5   7.17  4.14]\n",
            " [27.3   8.32  5.14]\n",
            " [27.5   7.17  4.34]\n",
            " [27.5   7.05  4.34]\n",
            " [27.5   7.28  4.57]\n",
            " [28.    7.82  4.2 ]\n",
            " [28.7   7.59  4.64]\n",
            " [30.    7.62  4.77]\n",
            " [32.8  10.03  6.02]\n",
            " [34.5  10.26  6.39]\n",
            " [35.   11.49  7.8 ]\n",
            " [36.5  10.88  6.86]\n",
            " [36.   10.61  6.74]\n",
            " [37.   10.84  6.26]\n",
            " [37.   10.57  6.37]\n",
            " [39.   11.14  7.49]\n",
            " [39.   11.14  6.  ]\n",
            " [39.   12.43  7.35]\n",
            " [40.   11.93  7.11]\n",
            " [40.   11.73  7.22]\n",
            " [40.   12.38  7.46]\n",
            " [40.   11.14  6.63]\n",
            " [42.   12.8   6.87]\n",
            " [43.   11.93  7.28]\n",
            " [43.   12.51  7.42]\n",
            " [43.5  12.6   8.14]\n",
            " [44.   12.49  7.6 ]]\n"
          ]
        }
      ]
    },
    {
      "cell_type": "code",
      "source": [
        "# length,   height,   width\n",
        "# 길이,     높이,     너비\n",
        "\n",
        "import numpy as np\n",
        "\n",
        "# 무게\n",
        "perch_weight = np.array(\n",
        "    [5.9, 32.0, 40.0, 51.5, 70.0, 100.0, 78.0, 80.0, 85.0, 85.0,\n",
        "     110.0, 115.0, 125.0, 130.0, 120.0, 120.0, 130.0, 135.0, 110.0,\n",
        "     130.0, 150.0, 145.0, 150.0, 170.0, 225.0, 145.0, 188.0, 180.0,\n",
        "     197.0, 218.0, 300.0, 260.0, 265.0, 250.0, 250.0, 300.0, 320.0,\n",
        "     514.0, 556.0, 840.0, 685.0, 700.0, 700.0, 690.0, 900.0, 650.0,\n",
        "     820.0, 850.0, 900.0, 1015.0, 820.0, 1100.0, 1000.0, 1100.0,\n",
        "     1000.0, 1000.0]\n",
        "     )"
      ],
      "metadata": {
        "id": "cz5I32FCgMIe"
      },
      "execution_count": 2,
      "outputs": []
    },
    {
      "cell_type": "code",
      "source": [
        "from sklearn.model_selection import train_test_split\n",
        "\n",
        "train_input, test_input, train_target, test_target = train_test_split(perch_full, perch_weight, random_state=42)\n",
        "# 훈련세트와 테스트세트로 나눔\n",
        "\n",
        "print(train_input[0])     # 판다스에서 받은 데이터 length,   height,   width"
      ],
      "metadata": {
        "colab": {
          "base_uri": "https://localhost:8080/"
        },
        "id": "2NdEOzrzgb5W",
        "outputId": "c03f836f-f51d-40ae-e936-6a6416f23988"
      },
      "execution_count": 3,
      "outputs": [
        {
          "output_type": "stream",
          "name": "stdout",
          "text": [
            "[19.6   5.14  3.04]\n"
          ]
        }
      ]
    },
    {
      "cell_type": "code",
      "source": [
        "print(train_target[0])     # 넘파이 데이터 (무게 perch_weight)"
      ],
      "metadata": {
        "colab": {
          "base_uri": "https://localhost:8080/"
        },
        "id": "uqYM9d67hoFG",
        "outputId": "8730c840-49a5-4085-8e11-5f096dae2636"
      },
      "execution_count": 6,
      "outputs": [
        {
          "output_type": "stream",
          "name": "stdout",
          "text": [
            "85.0\n"
          ]
        }
      ]
    },
    {
      "cell_type": "code",
      "source": [
        "# 위 데이터를 사용해서 새로운 특성을 만들자.\n",
        "# 사이킷런 변환기 : 특성을 만들거나 전처리하는 클래스가 있다.\n",
        "# 변환기(Transformer) : fit(), transform() 메서드가 있다.\n",
        "\n",
        "from sklearn.preprocessing import PolynomialFeatures\n",
        "\n",
        "poly = PolynomialFeatures()\n",
        "poly.fit([[2, 3]])    # 2개의 특성을 가진 2와 3으로 루어진 샘플 하나를 적용\n",
        "print(poly.transform([[2, 3]]))\n",
        "# fit() 메서드와 transform() 메서드를 차례대로 실행(훈련을 해야 변환이 됨)"
      ],
      "metadata": {
        "colab": {
          "base_uri": "https://localhost:8080/"
        },
        "id": "msTMZFNphwZ1",
        "outputId": "6521c064-8c10-4cae-b8b5-ffe0fea7a2e4"
      },
      "execution_count": 7,
      "outputs": [
        {
          "output_type": "stream",
          "name": "stdout",
          "text": [
            "[[1. 2. 3. 4. 6. 9.]]\n"
          ]
        }
      ]
    },
    {
      "cell_type": "code",
      "source": [
        "# [[1. 2. 3. 4. 6. 9.]]\n",
        "# 1 (bias)\n",
        "# 2\n",
        "# 3\n",
        "# 4 = 2 ** 2\n",
        "# 6 = 2 * 3\n",
        "# 9 = 3 ** 2\n",
        "\n",
        "# PolynomalFeatures는 기본적으로 각 특성을 제곱한 항을 추가하고 특성끼리 서로 곱한 항을 추가함\n",
        "# 2와 3을 각기 제곱한 4와 9가 추가 되고, 2와 3을 곱한 6이 추가됨\n",
        "# 무게 = a * 길이 + b * 높이 + c * 두께 + d + 1\n",
        "# 선형 방정식의 절편을 항상 값이 1인 특성과 곱해지는 계수임 -> (길이, 높이, 두께, 1)"
      ],
      "metadata": {
        "id": "s7a1jfoxisCl"
      },
      "execution_count": 8,
      "outputs": []
    },
    {
      "cell_type": "code",
      "source": [
        "poly = PolynomialFeatures(include_bias=False)\n",
        "#                             1 삭제 (자동으로 절편 항은 무시하지만 알아두면 좋음)\n",
        "poly.fit([[2, 3]])\n",
        "print(poly.fit_transform([[2, 3]]))"
      ],
      "metadata": {
        "colab": {
          "base_uri": "https://localhost:8080/"
        },
        "id": "ezHlh4Jylnm9",
        "outputId": "899f5c5e-e3c5-42c3-88b4-3c7633d79127"
      },
      "execution_count": 9,
      "outputs": [
        {
          "output_type": "stream",
          "name": "stdout",
          "text": [
            "[[2. 3. 4. 6. 9.]]\n"
          ]
        }
      ]
    },
    {
      "cell_type": "code",
      "source": [
        "poly.get_feature_names_out()    # 특성이 어떻게 만들어 졌는지 확인"
      ],
      "metadata": {
        "colab": {
          "base_uri": "https://localhost:8080/"
        },
        "id": "NVjFw3rZo3xF",
        "outputId": "e0fe23f2-a66f-435b-fd0f-7f353790d0a2"
      },
      "execution_count": 10,
      "outputs": [
        {
          "output_type": "execute_result",
          "data": {
            "text/plain": [
              "array(['x0', 'x1', 'x0^2', 'x0 x1', 'x1^2'], dtype=object)"
            ]
          },
          "metadata": {},
          "execution_count": 10
        }
      ]
    },
    {
      "cell_type": "code",
      "source": [
        "# 실제로 훈련시작용 생성\n",
        "poly = PolynomialFeatures(include_bias=False)\n",
        "# 사이킷런의 선형 모델은 자동으로 bias를 추가 하므로\n",
        "# bias 특성을 만들 필요 없으므로 include_bias를 False로 지정한다.\n",
        "\n",
        "poly.fit(train_input)\n",
        "train_poly = poly.transform(train_input)\n",
        "test_poly = poly.transform(test_input)\n",
        "print(train_poly.shape)"
      ],
      "metadata": {
        "colab": {
          "base_uri": "https://localhost:8080/"
        },
        "id": "vX9s95OTpWSE",
        "outputId": "ffa79a85-76bb-45d8-ddb6-89505fbfaaf3"
      },
      "execution_count": 12,
      "outputs": [
        {
          "output_type": "stream",
          "name": "stdout",
          "text": [
            "(42, 9)\n"
          ]
        }
      ]
    },
    {
      "cell_type": "code",
      "source": [
        "poly.get_feature_names_out()    # 특성이 어떻게 만들어 졌는지 확인"
      ],
      "metadata": {
        "colab": {
          "base_uri": "https://localhost:8080/"
        },
        "id": "msz-u-O1prjM",
        "outputId": "d058450a-4131-402e-b512-35633014b0b7"
      },
      "execution_count": 13,
      "outputs": [
        {
          "output_type": "execute_result",
          "data": {
            "text/plain": [
              "array(['x0', 'x1', 'x2', 'x0^2', 'x0 x1', 'x0 x2', 'x1^2', 'x1 x2',\n",
              "       'x2^2'], dtype=object)"
            ]
          },
          "metadata": {},
          "execution_count": 13
        }
      ]
    },
    {
      "cell_type": "code",
      "source": [
        "test_poly = poly.transform(test_input)    # 테스트용 세트 변환"
      ],
      "metadata": {
        "id": "9WSnTqSEqZqU"
      },
      "execution_count": 14,
      "outputs": []
    },
    {
      "cell_type": "code",
      "source": [
        "# 다중 회귀 모델 훈련하기\n",
        "from sklearn.linear_model import LinearRegression\n",
        "\n",
        "lr = LinearRegression()\n",
        "lr.fit(train_poly, train_target)\n",
        "print(lr.score(train_poly, train_target))\n",
        "# 99%의 아주 좋은 점수가 나옴 ( 물고기의 길이, 높이, 두께까지 사용한결과)"
      ],
      "metadata": {
        "colab": {
          "base_uri": "https://localhost:8080/"
        },
        "id": "0OXrll_-qrNc",
        "outputId": "1fb74527-0314-4926-a207-b7612df5f5a4"
      },
      "execution_count": 15,
      "outputs": [
        {
          "output_type": "stream",
          "name": "stdout",
          "text": [
            "0.9903183436982125\n"
          ]
        }
      ]
    },
    {
      "cell_type": "code",
      "source": [
        "print(lr.score(test_poly, test_target))\n",
        "# 농어의 길이만을 사용했지만 과소적합 문제는 나타나지 않음"
      ],
      "metadata": {
        "colab": {
          "base_uri": "https://localhost:8080/"
        },
        "id": "ZStGTpNArZI0",
        "outputId": "068395d2-b4f8-4785-96b9-997c06619cdf"
      },
      "execution_count": 16,
      "outputs": [
        {
          "output_type": "stream",
          "name": "stdout",
          "text": [
            "0.9714559911594111\n"
          ]
        }
      ]
    },
    {
      "cell_type": "code",
      "source": [
        "print(poly.degree)      # 특성조합수 기본값 2"
      ],
      "metadata": {
        "colab": {
          "base_uri": "https://localhost:8080/"
        },
        "id": "OySgXgS1rrH8",
        "outputId": "de396a28-754d-4bf8-c96f-aeae6561542f"
      },
      "execution_count": 17,
      "outputs": [
        {
          "output_type": "stream",
          "name": "stdout",
          "text": [
            "2\n"
          ]
        }
      ]
    },
    {
      "cell_type": "code",
      "source": [
        "# 만약 정확한 값을 보기 위해서 특성 조합수를 더 늘리면 ??\n",
        "# 특성을 추가하여 3제곱 4제곱 5제곱 항을 추가한다. -> degree = 5\n",
        "poly = PolynomialFeatures(degree=5, include_bias=False)\n",
        "\n",
        "poly.fit(train_input)\n",
        "train_poly = poly.transform(train_input)\n",
        "test_poly = poly.transform(test_input)\n",
        "print(train_poly.shape)\n",
        "# 특성 개수가 55개로 증가됨"
      ],
      "metadata": {
        "colab": {
          "base_uri": "https://localhost:8080/"
        },
        "id": "kY9jLWj-sSVk",
        "outputId": "831795f1-83b0-4864-a6d9-359ce143c8d7"
      },
      "execution_count": 24,
      "outputs": [
        {
          "output_type": "stream",
          "name": "stdout",
          "text": [
            "(42, 55)\n"
          ]
        }
      ]
    },
    {
      "cell_type": "code",
      "source": [
        "poly.get_feature_names_out()    # 특성이 어떻게 만들어 졌는지 확인"
      ],
      "metadata": {
        "colab": {
          "base_uri": "https://localhost:8080/"
        },
        "id": "QEGS3TQYtANU",
        "outputId": "da94546e-8a40-4996-d925-edda8fa3804d"
      },
      "execution_count": 25,
      "outputs": [
        {
          "output_type": "execute_result",
          "data": {
            "text/plain": [
              "array(['x0', 'x1', 'x2', 'x0^2', 'x0 x1', 'x0 x2', 'x1^2', 'x1 x2',\n",
              "       'x2^2', 'x0^3', 'x0^2 x1', 'x0^2 x2', 'x0 x1^2', 'x0 x1 x2',\n",
              "       'x0 x2^2', 'x1^3', 'x1^2 x2', 'x1 x2^2', 'x2^3', 'x0^4', 'x0^3 x1',\n",
              "       'x0^3 x2', 'x0^2 x1^2', 'x0^2 x1 x2', 'x0^2 x2^2', 'x0 x1^3',\n",
              "       'x0 x1^2 x2', 'x0 x1 x2^2', 'x0 x2^3', 'x1^4', 'x1^3 x2',\n",
              "       'x1^2 x2^2', 'x1 x2^3', 'x2^4', 'x0^5', 'x0^4 x1', 'x0^4 x2',\n",
              "       'x0^3 x1^2', 'x0^3 x1 x2', 'x0^3 x2^2', 'x0^2 x1^3',\n",
              "       'x0^2 x1^2 x2', 'x0^2 x1 x2^2', 'x0^2 x2^3', 'x0 x1^4',\n",
              "       'x0 x1^3 x2', 'x0 x1^2 x2^2', 'x0 x1 x2^3', 'x0 x2^4', 'x1^5',\n",
              "       'x1^4 x2', 'x1^3 x2^2', 'x1^2 x2^3', 'x1 x2^4', 'x2^5'],\n",
              "      dtype=object)"
            ]
          },
          "metadata": {},
          "execution_count": 25
        }
      ]
    },
    {
      "cell_type": "code",
      "source": [
        "lr.fit(train_poly, train_target)\n",
        "print(lr.score(train_poly, train_target))"
      ],
      "metadata": {
        "colab": {
          "base_uri": "https://localhost:8080/"
        },
        "id": "u4P0pw18taeE",
        "outputId": "f06d116c-f44d-4c82-fe57-9c4342bd71fe"
      },
      "execution_count": 26,
      "outputs": [
        {
          "output_type": "stream",
          "name": "stdout",
          "text": [
            "0.9999999999996433\n"
          ]
        }
      ]
    },
    {
      "cell_type": "code",
      "source": [
        "# 자료보다 특성이 많아서 생긴결과물\n",
        "\n",
        "# 특성 개수를 크게 늘리면 선형모델은 아주 강력해 짐\n",
        "# 하지만, 이런 모델은 훈련 세트에 너무 과대적합됨\n",
        "# 특히 훈련세트가 44개이지만 55개의 특성을 넣으면 어떻게 될까요?"
      ],
      "metadata": {
        "id": "VXg1Ov0qt4_L"
      },
      "execution_count": 28,
      "outputs": []
    },
    {
      "cell_type": "code",
      "source": [
        "# 규제(regulariztion) : 훈련세트를 너무 과도하게 학습하지 못하게 훼방하는 것\n",
        "# 훈련세트에 과대적합이 되지 않도록 만드는것"
      ],
      "metadata": {
        "id": "bOrxbkgHuSW7"
      },
      "execution_count": 27,
      "outputs": []
    },
    {
      "cell_type": "code",
      "source": [
        "from sklearn.preprocessing import StandardScaler\n",
        "# StandardScaler 싸이킷런 데이터 전처리 스케일 조정 (스케일러) -> 표준 점수로 변환시켜줌\n",
        "ss = StandardScaler()         # 훈련세트로 학습한 변환기를 사용해 테스트 세트까지 변환 필수\n",
        "ss.fit(train_poly)\n",
        "\n",
        "train_scaled = ss.transform(train_poly)   # 트레이닝용\n",
        "test_scaled = ss.transform(test_poly)     # 테스트용\n",
        "# 표준 점수로 변환한 train_scaled, test_scaled 준비완료"
      ],
      "metadata": {
        "id": "HoMBizO9vAbr"
      },
      "execution_count": 30,
      "outputs": []
    },
    {
      "cell_type": "code",
      "source": [
        "# 선형 회귀 모델에 규제를 추가한 모델은 2개가 있다.\n",
        "# 릿지(ridge) : 계수를 제곱한 값을 기준으로 규제 (선호)\n",
        "# 라쏘(lasso) : 계수의 절대값을 기준으로 규제를 적용 -> 0 으로 제공가능"
      ],
      "metadata": {
        "id": "5Nd7n7flvW7b"
      },
      "execution_count": 31,
      "outputs": []
    },
    {
      "cell_type": "code",
      "source": [
        "# 릿지회귀 : 모델 객체를 만들고 fit() -> score()\n",
        "\n",
        "from sklearn.linear_model import Ridge\n",
        "\n",
        "ridge = Ridge()\n",
        "ridge.fit(train_scaled, train_target)   # fit로 훈련하고 score로 평가함\n",
        "print(ridge.score(train_scaled, train_target))\n",
        "# 테스트결과 좋은 성능임을 판단할 수 있다. ( 모델 객체 생성시 alpha 매개 변수로 규제의 강도를 조절함)"
      ],
      "metadata": {
        "colab": {
          "base_uri": "https://localhost:8080/"
        },
        "id": "i5C4n9yfwafL",
        "outputId": "b9737c88-2dd7-42e3-9b93-65e335f2446a"
      },
      "execution_count": 33,
      "outputs": [
        {
          "output_type": "stream",
          "name": "stdout",
          "text": [
            "0.9896101671037343\n"
          ]
        }
      ]
    },
    {
      "cell_type": "code",
      "source": [
        "print(ridge.score(test_scaled, test_target))"
      ],
      "metadata": {
        "colab": {
          "base_uri": "https://localhost:8080/"
        },
        "id": "Ol4DHik7xaVb",
        "outputId": "012a8fe6-d87e-4cca-e856-77764938ef2c"
      },
      "execution_count": 34,
      "outputs": [
        {
          "output_type": "stream",
          "name": "stdout",
          "text": [
            "0.9790693977615387\n"
          ]
        }
      ]
    },
    {
      "cell_type": "code",
      "source": [
        "# 릿지와 라쏘 모델을 사용할 때 규제의 양을 임으로 조절할 수 있다.\n",
        "# 모델 객체를 만들 때 alpha 매개 값을 주면 됨.\n",
        "# alpha 값을 크게 주면 강도가 세짐, 계수값을 더 줄이고 조금 더 과소적합되록 유도하는 용도\n",
        "\n",
        "# 적절한 alpha 값을 찾는 방법은 그래프로 그려 봐야 한다.\n",
        "import matplotlib.pyplot as plt\n",
        "\n",
        "train_score = []\n",
        "test_score = []\n",
        "# alpha 값을 바꿀때 마다 score() 메서드의 결과 값을 저장할 리스트 생성"
      ],
      "metadata": {
        "id": "mHLcJFKpxqOD"
      },
      "execution_count": 35,
      "outputs": []
    },
    {
      "cell_type": "code",
      "source": [
        "alpha_list = [0.001, 0.01, 0.1, 1, 10, 100]    # 0.001 ~ 10배씩 증가\n",
        "for alpha in alpha_list:\n",
        "    # 릿지 모델을 만듭니다\n",
        "    ridge = Ridge(alpha=alpha)\n",
        "    # 릿지 모델을 훈련합니다\n",
        "    ridge.fit(train_scaled, train_target)\n",
        "    # 훈련 점수와 테스트 점수를 저장합니다\n",
        "    train_score.append(ridge.score(train_scaled, train_target))\n",
        "    test_score.append(ridge.score(test_scaled, test_target))"
      ],
      "metadata": {
        "id": "PEWEu9xgyc27"
      },
      "execution_count": 37,
      "outputs": []
    },
    {
      "cell_type": "code",
      "source": [
        "# 위 결과를 차트로 보자.\n",
        "\n",
        "# .log10(alpha_list) x축 값이 너무 촘촘하게 보일까봐 지수형식으로 표현\n",
        "# 0.001 : -3, 0.01 : -2 0.1 : -1\n",
        "plt.plot(np.log10(alpha_list), train_score) # 파란색\n",
        "plt.plot(np.log10(alpha_list), test_score)  # 노란색\n",
        "plt.xlabel('alpha')\n",
        "plt.ylabel('R^2')\n",
        "plt.show()      # 0.1 일때 제일 좋은 점수로 파악이 됨"
      ],
      "metadata": {
        "colab": {
          "base_uri": "https://localhost:8080/",
          "height": 449
        },
        "id": "RWfiOIU5zPjT",
        "outputId": "59ea3365-7242-4784-eba3-0c4c61c96cee"
      },
      "execution_count": 49,
      "outputs": [
        {
          "output_type": "display_data",
          "data": {
            "text/plain": [
              "<Figure size 640x480 with 1 Axes>"
            ],
            "image/png": "[encoded data removed]"
          },
          "metadata": {}
        }
      ]
    },
    {
      "cell_type": "code",
      "source": [
        "ridge = Ridge(alpha=0.1)    # 제일 좋은 값으로 적용\n",
        "ridge.fit(train_scaled, train_target)   # 훈련\n",
        "\n",
        "print(ridge.score(train_scaled, train_target))    # 평가\n",
        "print(ridge.score(test_scaled, test_target))"
      ],
      "metadata": {
        "colab": {
          "base_uri": "https://localhost:8080/"
        },
        "id": "guE40E51z45b",
        "outputId": "c28fdbec-ad7b-4df6-a364-f8ae00a0ad22"
      },
      "execution_count": 41,
      "outputs": [
        {
          "output_type": "stream",
          "name": "stdout",
          "text": [
            "0.9903815817570367\n",
            "0.9827976465386928\n"
          ]
        }
      ]
    },
    {
      "cell_type": "code",
      "source": [
        "# 라쏘로 규제 해보기\n",
        "\n",
        "from sklearn.linear_model import Lasso     #import 부분이 변경됨\n",
        "\n",
        "lasso = Lasso() # 이부분이 변경됨\n",
        "lasso.fit(train_scaled, train_target) # 훈련하고 점수환산\n",
        "print(lasso.score(train_scaled, train_target))"
      ],
      "metadata": {
        "colab": {
          "base_uri": "https://localhost:8080/"
        },
        "id": "StrPPkCA3JOK",
        "outputId": "ebbe4498-a395-4f9d-9e26-8b97ac29603b"
      },
      "execution_count": 42,
      "outputs": [
        {
          "output_type": "stream",
          "name": "stdout",
          "text": [
            "0.989789897208096\n"
          ]
        }
      ]
    },
    {
      "cell_type": "code",
      "source": [
        "print(lasso.score(test_scaled, test_target))    # 릿지만큼의 규제가 적용되어 안정적이다."
      ],
      "metadata": {
        "colab": {
          "base_uri": "https://localhost:8080/"
        },
        "id": "Zp_C1OCT4Eeq",
        "outputId": "9e58a0e7-aefd-4bbf-bb4d-ee499892ec4b"
      },
      "execution_count": 48,
      "outputs": [
        {
          "output_type": "stream",
          "name": "stdout",
          "text": [
            "0.9090772073024512\n"
          ]
        }
      ]
    },
    {
      "cell_type": "code",
      "source": [
        "# 지금 기본값도 안정적이지만 알파값을 조절하면 더 좋은 값을 찾을수 있다.\n",
        "\n",
        "train_score = []\n",
        "test_score = []\n",
        "\n",
        "alpha_list = [0.001, 0.01, 0.1, 1, 10, 100]\n",
        "for alpha in alpha_list:\n",
        "    # 라쏘 모델을 만듭니다\n",
        "    lasso = Lasso(alpha=alpha, max_iter=10000)    # 최대 반복횟수(정확도를 위함)\n",
        "    # 라쏘 모델은 최적의 계수를 찾기위해 반복적인 계산을 수행함\n",
        "\n",
        "    # 라쏘 모델을 훈련합니다\n",
        "    lasso.fit(train_scaled, train_target)\n",
        "\n",
        "    # 훈련 점수와 테스트 점수를 위에 만든 리스트에 저장합니다\n",
        "    train_score.append(lasso.score(train_scaled, train_target))\n",
        "    test_score.append(lasso.score(test_scaled, test_target))\n",
        "\n",
        "# 라쏘 테스트시 반복계산을 하는데 지정한 반복횟수가 부족하면 경고가 발생 ConvergenceWarning"
      ],
      "metadata": {
        "colab": {
          "base_uri": "https://localhost:8080/"
        },
        "id": "enR9ia8x4TB6",
        "outputId": "8d8bf6cc-d7f4-4267-83f9-64a84b419338"
      },
      "execution_count": 47,
      "outputs": [
        {
          "output_type": "stream",
          "name": "stderr",
          "text": [
            "/usr/local/lib/python3.10/dist-packages/sklearn/linear_model/_coordinate_descent.py:695: ConvergenceWarning: Objective did not converge. You might want to increase the number of iterations, check the scale of the features or consider increasing regularisation. Duality gap: 1.878e+04, tolerance: 5.183e+02\n",
            "  model = cd_fast.enet_coordinate_descent(\n",
            "/usr/local/lib/python3.10/dist-packages/sklearn/linear_model/_coordinate_descent.py:695: ConvergenceWarning: Objective did not converge. You might want to increase the number of iterations, check the scale of the features or consider increasing regularisation. Duality gap: 1.297e+04, tolerance: 5.183e+02\n",
            "  model = cd_fast.enet_coordinate_descent(\n"
          ]
        }
      ]
    },
    {
      "cell_type": "code",
      "source": [
        "# 위에서 만든 리스트를 차트로 보자.\n",
        "\n",
        "plt.plot(np.log10(alpha_list), train_score)    # 파란색\n",
        "plt.plot(np.log10(alpha_list), test_score)    # 노란색\n",
        "plt.xlabel('alpha')\n",
        "plt.ylabel('R^2')\n",
        "plt.show()\n",
        "# 왼쪽은 과대 적합, 오른쪽은 정상 (제일 좋은 값은 1 -> 0)"
      ],
      "metadata": {
        "colab": {
          "base_uri": "https://localhost:8080/",
          "height": 449
        },
        "id": "tVP4krzq451S",
        "outputId": "b6694194-e6c2-45b2-8167-48f408009498"
      },
      "execution_count": 52,
      "outputs": [
        {
          "output_type": "display_data",
          "data": {
            "text/plain": [
              "<Figure size 640x480 with 1 Axes>"
            ],
            "image/png": "[encoded data removed]"
          },
          "metadata": {}
        }
      ]
    },
    {
      "cell_type": "code",
      "source": [
        "# 라쏘 모델의 최적의 알파값은 1 -> 10^1=10\n",
        "lasso = Lasso(alpha=10)\n",
        "lasso.fit(train_scaled, train_target)\n",
        "\n",
        "print(lasso.score(train_scaled, train_target))\n",
        "print(lasso.score(test_scaled, test_target))"
      ],
      "metadata": {
        "colab": {
          "base_uri": "https://localhost:8080/"
        },
        "id": "zNtVcKGy6rpq",
        "outputId": "c8ff1084-aeb9-46e2-89d9-0ba282a34cd6"
      },
      "execution_count": 55,
      "outputs": [
        {
          "output_type": "stream",
          "name": "stdout",
          "text": [
            "0.9888067471131867\n",
            "0.9824470598706695\n"
          ]
        }
      ]
    },
    {
      "cell_type": "code",
      "source": [
        "print(np.sum(lasso.coef_ == 0))"
      ],
      "metadata": {
        "colab": {
          "base_uri": "https://localhost:8080/"
        },
        "id": "teIuyNsa7eSi",
        "outputId": "39b1c78c-d410-426c-9d66-26dbd5a8a91d"
      },
      "execution_count": 56,
      "outputs": [
        {
          "output_type": "stream",
          "name": "stdout",
          "text": [
            "40\n"
          ]
        }
      ]
    }
  ]
}