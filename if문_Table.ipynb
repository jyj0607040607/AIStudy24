{
  "nbformat": 4,
  "nbformat_minor": 0,
  "metadata": {
    "colab": {
      "provenance": [],
      "authorship_tag": "ABX9TyO4FMfW0+6VDq63PLCQ263d",
      "include_colab_link": true
    },
    "kernelspec": {
      "name": "python3",
      "display_name": "Python 3"
    },
    "language_info": {
      "name": "python"
    }
  },
  "cells": [
    {
      "cell_type": "markdown",
      "metadata": {
        "id": "view-in-github",
        "colab_type": "text"
      },
      "source": [
        "<a href=\"https://colab.research.google.com/github/jyj0607040607/AIStudy24/blob/master/if%EB%AC%B8_Table.ipynb\" target=\"_parent\"><img src=\"https://colab.research.google.com/assets/colab-badge.svg\" alt=\"Open In Colab\"/></a>"
      ]
    },
    {
      "cell_type": "markdown",
      "source": [
        "if문은 왜 필요할까?\n",
        "\n",
        "*   프로그래밍도 사람이 하는 것이므로 주어진 조건을 판단 한 후 그 상황에 맞게 처리해야 할 경우가 생긴다.\n",
        "이렇듯 프로그래밍에서 조건을 판단하여 해당 조건에 맞는 상황을 수행하는데 쓰는 것이 if문이다."
      ],
      "metadata": {
        "id": "eHnb4pVeU7fA"
      }
    },
    {
      "cell_type": "code",
      "execution_count": 1,
      "metadata": {
        "colab": {
          "base_uri": "https://localhost:8080/"
        },
        "id": "akYG5lAaUKTX",
        "outputId": "4a9de57b-0179-4a39-92a1-25ff39d74cff"
      },
      "outputs": [
        {
          "output_type": "stream",
          "name": "stdout",
          "text": [
            "택시를 타고 가라\n"
          ]
        }
      ],
      "source": [
        "money = True\n",
        "if money :\n",
        "    print(\"택시를 타고 가라\")\n",
        "else :\n",
        "    print(\"걸어가라\")"
      ]
    },
    {
      "cell_type": "markdown",
      "source": [
        "![image.png](data:image/png;base64,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)"
      ],
      "metadata": {
        "id": "0_TT0j7g30Sy"
      }
    },
    {
      "cell_type": "code",
      "source": [
        "x = 3\n",
        "y = 2\n",
        "x > y"
      ],
      "metadata": {
        "colab": {
          "base_uri": "https://localhost:8080/"
        },
        "id": "smOhHIZd30DR",
        "outputId": "f4dd2176-6d29-44e9-ef74-adc132f06826"
      },
      "execution_count": 2,
      "outputs": [
        {
          "output_type": "execute_result",
          "data": {
            "text/plain": [
              "True"
            ]
          },
          "metadata": {},
          "execution_count": 2
        }
      ]
    },
    {
      "cell_type": "code",
      "source": [
        "x < y"
      ],
      "metadata": {
        "colab": {
          "base_uri": "https://localhost:8080/"
        },
        "id": "4GFXoKl-30AS",
        "outputId": "77e28f52-072b-4e55-bbfd-7ddcfebcd025"
      },
      "execution_count": 3,
      "outputs": [
        {
          "output_type": "execute_result",
          "data": {
            "text/plain": [
              "False"
            ]
          },
          "metadata": {},
          "execution_count": 3
        }
      ]
    },
    {
      "cell_type": "code",
      "source": [
        "x == y"
      ],
      "metadata": {
        "colab": {
          "base_uri": "https://localhost:8080/"
        },
        "id": "x0hgxNz54jUK",
        "outputId": "3d3b06bc-b5ab-4d2b-e4a0-719d38cf6b3c"
      },
      "execution_count": 4,
      "outputs": [
        {
          "output_type": "execute_result",
          "data": {
            "text/plain": [
              "False"
            ]
          },
          "metadata": {},
          "execution_count": 4
        }
      ]
    },
    {
      "cell_type": "code",
      "source": [
        "x != y"
      ],
      "metadata": {
        "colab": {
          "base_uri": "https://localhost:8080/"
        },
        "id": "yPUZBzyV40m5",
        "outputId": "36342f23-1d75-4ba7-dea0-df5085fba099"
      },
      "execution_count": 5,
      "outputs": [
        {
          "output_type": "execute_result",
          "data": {
            "text/plain": [
              "True"
            ]
          },
          "metadata": {},
          "execution_count": 5
        }
      ]
    },
    {
      "cell_type": "code",
      "source": [
        "money = 2000\n",
        "if money >= 2000 :\n",
        "    print(\"택시를 타고 가라\")\n",
        "else :\n",
        "    print(\"걸어가라\")"
      ],
      "metadata": {
        "colab": {
          "base_uri": "https://localhost:8080/"
        },
        "id": "DFjUt0SS486U",
        "outputId": "9878ad8b-1336-4347-c782-4afd0906ff99"
      },
      "execution_count": 6,
      "outputs": [
        {
          "output_type": "stream",
          "name": "stdout",
          "text": [
            "택시를 타고 가라\n"
          ]
        }
      ]
    },
    {
      "cell_type": "code",
      "source": [
        "1 in [1, 2, 3]"
      ],
      "metadata": {
        "colab": {
          "base_uri": "https://localhost:8080/"
        },
        "id": "Cx_ohHuY5eF7",
        "outputId": "c4e03e2a-8158-4590-959f-0be64aa0cd91"
      },
      "execution_count": 7,
      "outputs": [
        {
          "output_type": "execute_result",
          "data": {
            "text/plain": [
              "True"
            ]
          },
          "metadata": {},
          "execution_count": 7
        }
      ]
    },
    {
      "cell_type": "code",
      "source": [
        "1 not in [1, 2, 3]"
      ],
      "metadata": {
        "colab": {
          "base_uri": "https://localhost:8080/"
        },
        "id": "SqvxB21Y5mSx",
        "outputId": "cae86fb4-f0b0-436b-c0d3-bf81f86cfc07"
      },
      "execution_count": 8,
      "outputs": [
        {
          "output_type": "execute_result",
          "data": {
            "text/plain": [
              "False"
            ]
          },
          "metadata": {},
          "execution_count": 8
        }
      ]
    },
    {
      "cell_type": "code",
      "source": [
        "'a' in ('a', 'b', 'c')"
      ],
      "metadata": {
        "colab": {
          "base_uri": "https://localhost:8080/"
        },
        "id": "Ntw-pLcB51ZR",
        "outputId": "2be8a526-ad90-41c8-9b19-00f4832d4318"
      },
      "execution_count": 9,
      "outputs": [
        {
          "output_type": "execute_result",
          "data": {
            "text/plain": [
              "True"
            ]
          },
          "metadata": {},
          "execution_count": 9
        }
      ]
    },
    {
      "cell_type": "code",
      "source": [
        "'j' not in 'tython'"
      ],
      "metadata": {
        "colab": {
          "base_uri": "https://localhost:8080/"
        },
        "id": "9lHnV6nz56g5",
        "outputId": "ed9edfd5-9bbf-4f08-f9ea-50022ed0466d"
      },
      "execution_count": 10,
      "outputs": [
        {
          "output_type": "execute_result",
          "data": {
            "text/plain": [
              "True"
            ]
          },
          "metadata": {},
          "execution_count": 10
        }
      ]
    },
    {
      "cell_type": "code",
      "source": [
        "pocket = ['paper', 'cellphone']\n",
        "card = True\n",
        "if 'money' in pocket :\n",
        "    print(\"택시를 타고 가라\")\n",
        "else :\n",
        "    if card :\n",
        "        print(\"택시를 타고 가라\")\n",
        "    else :\n",
        "        print(\"걸어가라\")"
      ],
      "metadata": {
        "colab": {
          "base_uri": "https://localhost:8080/"
        },
        "id": "4yjmKmkR6q_i",
        "outputId": "b6c81ca4-293d-4302-b694-ce55cc74d621"
      },
      "execution_count": 11,
      "outputs": [
        {
          "output_type": "stream",
          "name": "stdout",
          "text": [
            "택시를 타고 가라\n"
          ]
        }
      ]
    },
    {
      "cell_type": "markdown",
      "source": [
        "![image.png](data:image/png;base64,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)"
      ],
      "metadata": {
        "id": "dBvIRj488_F5"
      }
    },
    {
      "cell_type": "code",
      "source": [
        "if 'money' in pocket :\n",
        "    pass\n",
        "else :\n",
        "    print(\"카드를 꺼내라\")"
      ],
      "metadata": {
        "colab": {
          "base_uri": "https://localhost:8080/"
        },
        "id": "uedEnx3r9QJJ",
        "outputId": "b8ae8f10-1843-47e2-edb9-360c980b9bc0"
      },
      "execution_count": 12,
      "outputs": [
        {
          "output_type": "stream",
          "name": "stdout",
          "text": [
            "카드를 꺼내라\n"
          ]
        }
      ]
    }
  ]
}