{
  "nbformat": 4,
  "nbformat_minor": 0,
  "metadata": {
    "colab": {
      "provenance": [],
      "authorship_tag": "ABX9TyPrNAtn+ppxeZotoEoUbVKA",
      "include_colab_link": true
    },
    "kernelspec": {
      "name": "python3",
      "display_name": "Python 3"
    },
    "language_info": {
      "name": "python"
    }
  },
  "cells": [
    {
      "cell_type": "markdown",
      "metadata": {
        "id": "view-in-github",
        "colab_type": "text"
      },
      "source": [
        "<a href=\"https://colab.research.google.com/github/jyj0607040607/AIStudy24/blob/master/%EB%A1%9C%EC%A7%80%EC%8A%A4%ED%8B%B1%ED%9A%8C%EA%B7%80_%EC%86%8C%ED%94%84%ED%8A%B8%EB%A7%A5%EC%8A%A4.ipynb\" target=\"_parent\"><img src=\"https://colab.research.google.com/assets/colab-badge.svg\" alt=\"Open In Colab\"/></a>"
      ]
    },
    {
      "cell_type": "markdown",
      "source": [
        "MBC 쇼핑몰에서는 럭키백을 판매하기로 하였다.\n",
        "\n",
        "* 럭키팩에는 생선이 들어 있는데 종류가 7가지로 랜덤하게 들어 있다.\n",
        "* 럭키팩에 확율을 표시 해야 함 : 들어있는 7가지의 생선의 확률이 필요함.\n",
        "\n",
        "\n",
        "      *    럭키백의 확률 : 생선이 7마리라고 가정함\n",
        "      *    생선의 크기, 무게 (길이, 높이, 두께, 대가선의길이, 무게)\n",
        "\n"
      ],
      "metadata": {
        "id": "5Qsk9kPeqlFX"
      }
    },
    {
      "cell_type": "code",
      "source": [
        "# k-최근접 알고리즘을 이용해보면 회귀? 분류?\n",
        "# 확률을 알고 싶은 것이기 때문에 회귀를 사용해보자.\n",
        "\n",
        "# 샘플 10개 중에 농어가 3개면?? 3 / 10 = 0.3\n",
        "# 빙어가 5개면?? 5 / 10 = 0.5\n",
        "# 도미가 2개면?? 2 / 10 = 0.2 = 100%\n",
        "\n",
        "# 사이킷런의 k-최근접 이웃 분리기도 이와 동일한 방식으로 확율 계산도 해줌\n",
        "\n",
        "# 샘플데이터 준비\n",
        "import pandas as pd   # 판다스로 csv를 처리함\n",
        "\n",
        "fish = pd.read_csv('https://bit.ly/fish_csv_data')    # 웹에 있는 파일을 가져옴\n",
        "fish.head()     # 제일 위쪽 데이터 5개를 보여줌\n",
        "# 어종(스피시즈), 무게, 길이, 대각선, 키, 너비(두께)"
      ],
      "metadata": {
        "colab": {
          "base_uri": "https://localhost:8080/",
          "height": 206
        },
        "id": "T0KK6gRzyWiN",
        "outputId": "d5c40081-130e-4f31-8f0a-b23290d098f8"
      },
      "execution_count": 3,
      "outputs": [
        {
          "output_type": "execute_result",
          "data": {
            "text/plain": [
              "  Species  Weight  Length  Diagonal   Height   Width\n",
              "0   Bream   242.0    25.4      30.0  11.5200  4.0200\n",
              "1   Bream   290.0    26.3      31.2  12.4800  4.3056\n",
              "2   Bream   340.0    26.5      31.1  12.3778  4.6961\n",
              "3   Bream   363.0    29.0      33.5  12.7300  4.4555\n",
              "4   Bream   430.0    29.0      34.0  12.4440  5.1340"
            ],
            "text/html": [
              "\n",
              "  <div id=\"df-c6f0b21b-0321-4946-97f2-04d5c6de7423\" class=\"colab-df-container\">\n",
              "    <div>\n",
              "<style scoped>\n",
              "    .dataframe tbody tr th:only-of-type {\n",
              "        vertical-align: middle;\n",
              "    }\n",
              "\n",
              "    .dataframe tbody tr th {\n",
              "        vertical-align: top;\n",
              "    }\n",
              "\n",
              "    .dataframe thead th {\n",
              "        text-align: right;\n",
              "    }\n",
              "</style>\n",
              "<table border=\"1\" class=\"dataframe\">\n",
              "  <thead>\n",
              "    <tr style=\"text-align: right;\">\n",
              "      <th></th>\n",
              "      <th>Species</th>\n",
              "      <th>Weight</th>\n",
              "      <th>Length</th>\n",
              "      <th>Diagonal</th>\n",
              "      <th>Height</th>\n",
              "      <th>Width</th>\n",
              "    </tr>\n",
              "  </thead>\n",
              "  <tbody>\n",
              "    <tr>\n",
              "      <th>0</th>\n",
              "      <td>Bream</td>\n",
              "      <td>242.0</td>\n",
              "      <td>25.4</td>\n",
              "      <td>30.0</td>\n",
              "      <td>11.5200</td>\n",
              "      <td>4.0200</td>\n",
              "    </tr>\n",
              "    <tr>\n",
              "      <th>1</th>\n",
              "      <td>Bream</td>\n",
              "      <td>290.0</td>\n",
              "      <td>26.3</td>\n",
              "      <td>31.2</td>\n",
              "      <td>12.4800</td>\n",
              "      <td>4.3056</td>\n",
              "    </tr>\n",
              "    <tr>\n",
              "      <th>2</th>\n",
              "      <td>Bream</td>\n",
              "      <td>340.0</td>\n",
              "      <td>26.5</td>\n",
              "      <td>31.1</td>\n",
              "      <td>12.3778</td>\n",
              "      <td>4.6961</td>\n",
              "    </tr>\n",
              "    <tr>\n",
              "      <th>3</th>\n",
              "      <td>Bream</td>\n",
              "      <td>363.0</td>\n",
              "      <td>29.0</td>\n",
              "      <td>33.5</td>\n",
              "      <td>12.7300</td>\n",
              "      <td>4.4555</td>\n",
              "    </tr>\n",
              "    <tr>\n",
              "      <th>4</th>\n",
              "      <td>Bream</td>\n",
              "      <td>430.0</td>\n",
              "      <td>29.0</td>\n",
              "      <td>34.0</td>\n",
              "      <td>12.4440</td>\n",
              "      <td>5.1340</td>\n",
              "    </tr>\n",
              "  </tbody>\n",
              "</table>\n",
              "</div>\n",
              "    <div class=\"colab-df-buttons\">\n",
              "\n",
              "  <div class=\"colab-df-container\">\n",
              "    <button class=\"colab-df-convert\" onclick=\"convertToInteractive('df-c6f0b21b-0321-4946-97f2-04d5c6de7423')\"\n",
              "            title=\"Convert this dataframe to an interactive table.\"\n",
              "            style=\"display:none;\">\n",
              "\n",
              "  <svg xmlns=\"http://www.w3.org/2000/svg\" height=\"24px\" viewBox=\"0 -960 960 960\">\n",
              "    <path d=\"M120-120v-720h720v720H120Zm60-500h600v-160H180v160Zm220 220h160v-160H400v160Zm0 220h160v-160H400v160ZM180-400h160v-160H180v160Zm440 0h160v-160H620v160ZM180-180h160v-160H180v160Zm440 0h160v-160H620v160Z\"/>\n",
              "  </svg>\n",
              "    </button>\n",
              "\n",
              "  <style>\n",
              "    .colab-df-container {\n",
              "      display:flex;\n",
              "      gap: 12px;\n",
              "    }\n",
              "\n",
              "    .colab-df-convert {\n",
              "      background-color: #E8F0FE;\n",
              "      border: none;\n",
              "      border-radius: 50%;\n",
              "      cursor: pointer;\n",
              "      display: none;\n",
              "      fill: #1967D2;\n",
              "      height: 32px;\n",
              "      padding: 0 0 0 0;\n",
              "      width: 32px;\n",
              "    }\n",
              "\n",
              "    .colab-df-convert:hover {\n",
              "      background-color: #E2EBFA;\n",
              "      box-shadow: 0px 1px 2px rgba(60, 64, 67, 0.3), 0px 1px 3px 1px rgba(60, 64, 67, 0.15);\n",
              "      fill: #174EA6;\n",
              "    }\n",
              "\n",
              "    .colab-df-buttons div {\n",
              "      margin-bottom: 4px;\n",
              "    }\n",
              "\n",
              "    [theme=dark] .colab-df-convert {\n",
              "      background-color: #3B4455;\n",
              "      fill: #D2E3FC;\n",
              "    }\n",
              "\n",
              "    [theme=dark] .colab-df-convert:hover {\n",
              "      background-color: #434B5C;\n",
              "      box-shadow: 0px 1px 3px 1px rgba(0, 0, 0, 0.15);\n",
              "      filter: drop-shadow(0px 1px 2px rgba(0, 0, 0, 0.3));\n",
              "      fill: #FFFFFF;\n",
              "    }\n",
              "  </style>\n",
              "\n",
              "    <script>\n",
              "      const buttonEl =\n",
              "        document.querySelector('#df-c6f0b21b-0321-4946-97f2-04d5c6de7423 button.colab-df-convert');\n",
              "      buttonEl.style.display =\n",
              "        google.colab.kernel.accessAllowed ? 'block' : 'none';\n",
              "\n",
              "      async function convertToInteractive(key) {\n",
              "        const element = document.querySelector('#df-c6f0b21b-0321-4946-97f2-04d5c6de7423');\n",
              "        const dataTable =\n",
              "          await google.colab.kernel.invokeFunction('convertToInteractive',\n",
              "                                                    [key], {});\n",
              "        if (!dataTable) return;\n",
              "\n",
              "        const docLinkHtml = 'Like what you see? Visit the ' +\n",
              "          '<a target=\"_blank\" href=https://colab.research.google.com/notebooks/data_table.ipynb>data table notebook</a>'\n",
              "          + ' to learn more about interactive tables.';\n",
              "        element.innerHTML = '';\n",
              "        dataTable['output_type'] = 'display_data';\n",
              "        await google.colab.output.renderOutput(dataTable, element);\n",
              "        const docLink = document.createElement('div');\n",
              "        docLink.innerHTML = docLinkHtml;\n",
              "        element.appendChild(docLink);\n",
              "      }\n",
              "    </script>\n",
              "  </div>\n",
              "\n",
              "\n",
              "<div id=\"df-0ef11183-e14a-4811-bcd2-46f222fcee2d\">\n",
              "  <button class=\"colab-df-quickchart\" onclick=\"quickchart('df-0ef11183-e14a-4811-bcd2-46f222fcee2d')\"\n",
              "            title=\"Suggest charts\"\n",
              "            style=\"display:none;\">\n",
              "\n",
              "<svg xmlns=\"http://www.w3.org/2000/svg\" height=\"24px\"viewBox=\"0 0 24 24\"\n",
              "     width=\"24px\">\n",
              "    <g>\n",
              "        <path d=\"M19 3H5c-1.1 0-2 .9-2 2v14c0 1.1.9 2 2 2h14c1.1 0 2-.9 2-2V5c0-1.1-.9-2-2-2zM9 17H7v-7h2v7zm4 0h-2V7h2v10zm4 0h-2v-4h2v4z\"/>\n",
              "    </g>\n",
              "</svg>\n",
              "  </button>\n",
              "\n",
              "<style>\n",
              "  .colab-df-quickchart {\n",
              "      --bg-color: #E8F0FE;\n",
              "      --fill-color: #1967D2;\n",
              "      --hover-bg-color: #E2EBFA;\n",
              "      --hover-fill-color: #174EA6;\n",
              "      --disabled-fill-color: #AAA;\n",
              "      --disabled-bg-color: #DDD;\n",
              "  }\n",
              "\n",
              "  [theme=dark] .colab-df-quickchart {\n",
              "      --bg-color: #3B4455;\n",
              "      --fill-color: #D2E3FC;\n",
              "      --hover-bg-color: #434B5C;\n",
              "      --hover-fill-color: #FFFFFF;\n",
              "      --disabled-bg-color: #3B4455;\n",
              "      --disabled-fill-color: #666;\n",
              "  }\n",
              "\n",
              "  .colab-df-quickchart {\n",
              "    background-color: var(--bg-color);\n",
              "    border: none;\n",
              "    border-radius: 50%;\n",
              "    cursor: pointer;\n",
              "    display: none;\n",
              "    fill: var(--fill-color);\n",
              "    height: 32px;\n",
              "    padding: 0;\n",
              "    width: 32px;\n",
              "  }\n",
              "\n",
              "  .colab-df-quickchart:hover {\n",
              "    background-color: var(--hover-bg-color);\n",
              "    box-shadow: 0 1px 2px rgba(60, 64, 67, 0.3), 0 1px 3px 1px rgba(60, 64, 67, 0.15);\n",
              "    fill: var(--button-hover-fill-color);\n",
              "  }\n",
              "\n",
              "  .colab-df-quickchart-complete:disabled,\n",
              "  .colab-df-quickchart-complete:disabled:hover {\n",
              "    background-color: var(--disabled-bg-color);\n",
              "    fill: var(--disabled-fill-color);\n",
              "    box-shadow: none;\n",
              "  }\n",
              "\n",
              "  .colab-df-spinner {\n",
              "    border: 2px solid var(--fill-color);\n",
              "    border-color: transparent;\n",
              "    border-bottom-color: var(--fill-color);\n",
              "    animation:\n",
              "      spin 1s steps(1) infinite;\n",
              "  }\n",
              "\n",
              "  @keyframes spin {\n",
              "    0% {\n",
              "      border-color: transparent;\n",
              "      border-bottom-color: var(--fill-color);\n",
              "      border-left-color: var(--fill-color);\n",
              "    }\n",
              "    20% {\n",
              "      border-color: transparent;\n",
              "      border-left-color: var(--fill-color);\n",
              "      border-top-color: var(--fill-color);\n",
              "    }\n",
              "    30% {\n",
              "      border-color: transparent;\n",
              "      border-left-color: var(--fill-color);\n",
              "      border-top-color: var(--fill-color);\n",
              "      border-right-color: var(--fill-color);\n",
              "    }\n",
              "    40% {\n",
              "      border-color: transparent;\n",
              "      border-right-color: var(--fill-color);\n",
              "      border-top-color: var(--fill-color);\n",
              "    }\n",
              "    60% {\n",
              "      border-color: transparent;\n",
              "      border-right-color: var(--fill-color);\n",
              "    }\n",
              "    80% {\n",
              "      border-color: transparent;\n",
              "      border-right-color: var(--fill-color);\n",
              "      border-bottom-color: var(--fill-color);\n",
              "    }\n",
              "    90% {\n",
              "      border-color: transparent;\n",
              "      border-bottom-color: var(--fill-color);\n",
              "    }\n",
              "  }\n",
              "</style>\n",
              "\n",
              "  <script>\n",
              "    async function quickchart(key) {\n",
              "      const quickchartButtonEl =\n",
              "        document.querySelector('#' + key + ' button');\n",
              "      quickchartButtonEl.disabled = true;  // To prevent multiple clicks.\n",
              "      quickchartButtonEl.classList.add('colab-df-spinner');\n",
              "      try {\n",
              "        const charts = await google.colab.kernel.invokeFunction(\n",
              "            'suggestCharts', [key], {});\n",
              "      } catch (error) {\n",
              "        console.error('Error during call to suggestCharts:', error);\n",
              "      }\n",
              "      quickchartButtonEl.classList.remove('colab-df-spinner');\n",
              "      quickchartButtonEl.classList.add('colab-df-quickchart-complete');\n",
              "    }\n",
              "    (() => {\n",
              "      let quickchartButtonEl =\n",
              "        document.querySelector('#df-0ef11183-e14a-4811-bcd2-46f222fcee2d button');\n",
              "      quickchartButtonEl.style.display =\n",
              "        google.colab.kernel.accessAllowed ? 'block' : 'none';\n",
              "    })();\n",
              "  </script>\n",
              "</div>\n",
              "\n",
              "    </div>\n",
              "  </div>\n"
            ],
            "application/vnd.google.colaboratory.intrinsic+json": {
              "type": "dataframe",
              "variable_name": "fish",
              "summary": "{\n  \"name\": \"fish\",\n  \"rows\": 159,\n  \"fields\": [\n    {\n      \"column\": \"Species\",\n      \"properties\": {\n        \"dtype\": \"category\",\n        \"num_unique_values\": 7,\n        \"samples\": [\n          \"Bream\",\n          \"Roach\",\n          \"Pike\"\n        ],\n        \"semantic_type\": \"\",\n        \"description\": \"\"\n      }\n    },\n    {\n      \"column\": \"Weight\",\n      \"properties\": {\n        \"dtype\": \"number\",\n        \"std\": 357.9783165508931,\n        \"min\": 0.0,\n        \"max\": 1650.0,\n        \"num_unique_values\": 101,\n        \"samples\": [\n          770.0,\n          51.5,\n          197.0\n        ],\n        \"semantic_type\": \"\",\n        \"description\": \"\"\n      }\n    },\n    {\n      \"column\": \"Length\",\n      \"properties\": {\n        \"dtype\": \"number\",\n        \"std\": 10.716328098884247,\n        \"min\": 8.4,\n        \"max\": 63.4,\n        \"num_unique_values\": 93,\n        \"samples\": [\n          14.7,\n          18.8,\n          19.6\n        ],\n        \"semantic_type\": \"\",\n        \"description\": \"\"\n      }\n    },\n    {\n      \"column\": \"Diagonal\",\n      \"properties\": {\n        \"dtype\": \"number\",\n        \"std\": 11.610245832690964,\n        \"min\": 8.8,\n        \"max\": 68.0,\n        \"num_unique_values\": 124,\n        \"samples\": [\n          39.2,\n          27.2,\n          23.1\n        ],\n        \"semantic_type\": \"\",\n        \"description\": \"\"\n      }\n    },\n    {\n      \"column\": \"Height\",\n      \"properties\": {\n        \"dtype\": \"number\",\n        \"std\": 4.286207619968867,\n        \"min\": 1.7284,\n        \"max\": 18.957,\n        \"num_unique_values\": 154,\n        \"samples\": [\n          15.438,\n          7.293,\n          2.8728\n        ],\n        \"semantic_type\": \"\",\n        \"description\": \"\"\n      }\n    },\n    {\n      \"column\": \"Width\",\n      \"properties\": {\n        \"dtype\": \"number\",\n        \"std\": 1.6858038699921671,\n        \"min\": 1.0476,\n        \"max\": 8.142,\n        \"num_unique_values\": 152,\n        \"samples\": [\n          3.1571,\n          1.3936,\n          3.6835\n        ],\n        \"semantic_type\": \"\",\n        \"description\": \"\"\n      }\n    }\n  ]\n}"
            }
          },
          "metadata": {},
          "execution_count": 3
        }
      ]
    },
    {
      "cell_type": "code",
      "source": [
        "print(pd.unique(fish['Species']))    # 유니크하게 종류를 출력"
      ],
      "metadata": {
        "colab": {
          "base_uri": "https://localhost:8080/"
        },
        "id": "0-f9M26V1Ode",
        "outputId": "ed9a3531-0f15-475a-a414-33baca1275ac"
      },
      "execution_count": 5,
      "outputs": [
        {
          "output_type": "stream",
          "name": "stdout",
          "text": [
            "['Bream' 'Roach' 'Whitefish' 'Parkki' 'Perch' 'Pike' 'Smelt']\n"
          ]
        }
      ]
    },
    {
      "cell_type": "code",
      "source": [
        "# Bream : 브림이라 부르며(도미)\n",
        "# Roach : 로치이라 부르며(대구)\n",
        "# Whitefish : (잉어)\n",
        "# Parkki : (붕어)\n",
        "# Perch : (농어)\n",
        "# Pike : (감물치)\n",
        "# Smelt : (빙어)\n",
        "\n",
        "# 7개의 종류의 어종이 분포되어 있다.\n",
        "\n",
        "fish_input = fish[['Weight','Length','Diagonal','Height','Width']].to_numpy()\n",
        "# 원하는 필드를 넣어 필터링\n",
        "print(fish_input[:5])"
      ],
      "metadata": {
        "colab": {
          "base_uri": "https://localhost:8080/"
        },
        "id": "Ziv7qUEz15ed",
        "outputId": "e6ef056f-6f71-4552-9e72-11cfce06a2eb"
      },
      "execution_count": 7,
      "outputs": [
        {
          "output_type": "stream",
          "name": "stdout",
          "text": [
            "[[242.      25.4     30.      11.52     4.02  ]\n",
            " [290.      26.3     31.2     12.48     4.3056]\n",
            " [340.      26.5     31.1     12.3778   4.6961]\n",
            " [363.      29.      33.5     12.73     4.4555]\n",
            " [430.      29.      34.      12.444    5.134 ]]\n"
          ]
        }
      ]
    },
    {
      "cell_type": "code",
      "source": [
        "# 정답 리스트 생성\n",
        "fish_target = fish['Species'].to_numpy()\n",
        "# fish[['Species]] 이렇게 하면 2차원 배열됨(금지)\n",
        "print(fish_target[:5])"
      ],
      "metadata": {
        "colab": {
          "base_uri": "https://localhost:8080/"
        },
        "id": "aCmiAiSH3fI1",
        "outputId": "8999d070-9b96-49f1-ee39-5ed40d306466"
      },
      "execution_count": 8,
      "outputs": [
        {
          "output_type": "stream",
          "name": "stdout",
          "text": [
            "['Bream' 'Bream' 'Bream' 'Bream' 'Bream']\n"
          ]
        }
      ]
    },
    {
      "cell_type": "code",
      "source": [
        "# 훈련세트 생성\n",
        "\n",
        "from sklearn.model_selection import train_test_split\n",
        "\n",
        "train_input, test_input, train_target, test_target = train_test_split(fish_input, fish_target, random_state=42)\n",
        "\n",
        "print(train_input.shape, test_input.shape)"
      ],
      "metadata": {
        "colab": {
          "base_uri": "https://localhost:8080/"
        },
        "id": "9mulVBKd3zw9",
        "outputId": "8842ce35-7b83-41a1-f0ea-d4dc3890ed1e"
      },
      "execution_count": 13,
      "outputs": [
        {
          "output_type": "stream",
          "name": "stdout",
          "text": [
            "(119, 5) (40, 5)\n"
          ]
        }
      ]
    },
    {
      "cell_type": "code",
      "source": [
        "from sklearn.preprocessing import StandardScaler\n",
        "\n",
        "ss = StandardScaler()       # 싸이킷런의 전처리용(스케일조정 : 표준 점수)\n",
        "ss.fit(train_input)\n",
        "train_scaled = ss.transform(train_input)\n",
        "test_scaled = ss.transform(test_input)\n",
        "print(train_scaled[:5])"
      ],
      "metadata": {
        "colab": {
          "base_uri": "https://localhost:8080/"
        },
        "id": "ODIX5q2g5HU1",
        "outputId": "7b985713-3225-40d6-d73b-c71d14e5a6db"
      },
      "execution_count": 17,
      "outputs": [
        {
          "output_type": "stream",
          "name": "stdout",
          "text": [
            "[[ 0.91965782  0.60943175  0.81041221  1.85194896  1.00075672]\n",
            " [ 0.30041219  1.54653445  1.45316551 -0.46981663  0.27291745]\n",
            " [-1.0858536  -1.68646987 -1.70848587 -1.70159849 -2.0044758 ]\n",
            " [-0.79734143 -0.60880176 -0.67486907 -0.82480589 -0.27631471]\n",
            " [-0.71289885 -0.73062511 -0.70092664 -0.0802298  -0.7033869 ]]\n"
          ]
        }
      ]
    },
    {
      "cell_type": "code",
      "source": [
        "# k-최근접 이웃 분류기의 확률 예측\n",
        "from sklearn.neighbors import KNeighborsClassifier    # 분류용\n",
        "\n",
        "kn = KNeighborsClassifier(n_neighbors=3)      # 이웃 3개 참고\n",
        "kn.fit(train_scaled, train_target)            # 훈련시작\n",
        "\n",
        "print(kn.score(train_scaled, train_target))   # 훈련점수 0.89\n",
        "print(kn.score(test_scaled, test_target))     # 테스트 점수 0.89"
      ],
      "metadata": {
        "colab": {
          "base_uri": "https://localhost:8080/"
        },
        "id": "NwNx759n5mKU",
        "outputId": "90b1d561-882b-403f-a816-a542631d97ed"
      },
      "execution_count": 18,
      "outputs": [
        {
          "output_type": "stream",
          "name": "stdout",
          "text": [
            "0.8907563025210085\n",
            "0.85\n"
          ]
        }
      ]
    },
    {
      "cell_type": "code",
      "source": [
        "# 전에는 0와 1을 찾는 이진 분류 였지마 지금 타켓에 7새의 어종을 넣었다.\n",
        "print(kn.classes_)\n",
        "# 7개의 생선 종류가 들어왔다. 2개이상 클래스가 포함된 문제를 다중 분류라고 한다."
      ],
      "metadata": {
        "colab": {
          "base_uri": "https://localhost:8080/"
        },
        "id": "IXnPFY-h65Jk",
        "outputId": "f5649296-b417-4066-d1b5-874f87a6a088"
      },
      "execution_count": 19,
      "outputs": [
        {
          "output_type": "stream",
          "name": "stdout",
          "text": [
            "['Bream' 'Parkki' 'Perch' 'Pike' 'Roach' 'Smelt' 'Whitefish']\n"
          ]
        }
      ]
    },
    {
      "cell_type": "code",
      "source": [
        "print(kn.predict(test_scaled[:5]))\n",
        "# 처음 5개 샘플을 타깃값 예측 해보면 아래와 같다."
      ],
      "metadata": {
        "colab": {
          "base_uri": "https://localhost:8080/"
        },
        "id": "JNmbvD0r7dwE",
        "outputId": "6cdbcce8-ead8-49d5-e8de-7c0c8a89f1e6"
      },
      "execution_count": 21,
      "outputs": [
        {
          "output_type": "stream",
          "name": "stdout",
          "text": [
            "['Perch' 'Smelt' 'Pike' 'Perch' 'Perch']\n"
          ]
        }
      ]
    },
    {
      "cell_type": "code",
      "source": [
        "print(test_scaled[:5])"
      ],
      "metadata": {
        "colab": {
          "base_uri": "https://localhost:8080/"
        },
        "id": "_LV1CAHC72H7",
        "outputId": "febf8c16-bba8-41e6-b7b0-13a9d2453f9b"
      },
      "execution_count": 22,
      "outputs": [
        {
          "output_type": "stream",
          "name": "stdout",
          "text": [
            "[[-0.88741352 -0.91804565 -1.03098914 -0.90464451 -0.80762518]\n",
            " [-1.06924656 -1.50842035 -1.54345461 -1.58849582 -1.93803151]\n",
            " [-0.54401367  0.35641402  0.30663259 -0.8135697  -0.65388895]\n",
            " [-0.34698097 -0.23396068 -0.22320459 -0.11905019 -0.12233464]\n",
            " [-0.68475132 -0.51509149 -0.58801052 -0.8998784  -0.50124996]]\n"
          ]
        }
      ]
    },
    {
      "cell_type": "code",
      "source": [
        "import numpy as np\n",
        "\n",
        "proba = kn.predict_proba(test_scaled[:5])\n",
        "# 사이킷 런이 번거러운 연산을 수행해줌으로 쉽게 결과가 나옴\n",
        "print(np.round(proba, decimals=4))\n",
        "# 소주점 네번째 자리까지 표시(다섯번째에서 반올림)\n",
        "# Bream Parkki Perch Pike   Roach smelt Whitefish 이순서"
      ],
      "metadata": {
        "colab": {
          "base_uri": "https://localhost:8080/"
        },
        "id": "Q8J83RJS8KFM",
        "outputId": "5e49590c-ec88-4785-c413-5b7d0d10ba38"
      },
      "execution_count": 23,
      "outputs": [
        {
          "output_type": "stream",
          "name": "stdout",
          "text": [
            "[[0.     0.     1.     0.     0.     0.     0.    ]\n",
            " [0.     0.     0.     0.     0.     1.     0.    ]\n",
            " [0.     0.     0.     1.     0.     0.     0.    ]\n",
            " [0.     0.     0.6667 0.     0.3333 0.     0.    ]\n",
            " [0.     0.     0.6667 0.     0.3333 0.     0.    ]]\n"
          ]
        }
      ]
    },
    {
      "cell_type": "code",
      "source": [
        "# ['Perch' 'Smelt' 'Pike' 'Perch' 'Perch'] 결과를 확인 할 수 있다."
      ],
      "metadata": {
        "id": "rt4grvIz87Xc"
      },
      "execution_count": 27,
      "outputs": []
    },
    {
      "cell_type": "code",
      "source": [
        "# 이 모델이 계산한 확률이 가장 가까운 이웃의 비율이 맞는지 확인이 필요하다.\n",
        "distances, indexes = kn.kneighbors(test_scaled[3:4])\n",
        "print(train_target[indexes])\n",
        "\n",
        "#             Perch           Roach\n",
        "# 0.    0.    0.6667    0.    0333    0.    0\n",
        "# Perch 2/3, Roach 1/3이기 때문에 7개를 확율로 제공되지 못하다.\n",
        "# 이유 : n_neighbors=3으로 했기 때문이다."
      ],
      "metadata": {
        "colab": {
          "base_uri": "https://localhost:8080/"
        },
        "id": "BvXy8stEANDD",
        "outputId": "25d1b14c-7426-4fd9-f3c7-08803f15356b"
      },
      "execution_count": 26,
      "outputs": [
        {
          "output_type": "stream",
          "name": "stdout",
          "text": [
            "[['Roach' 'Perch' 'Perch']]\n"
          ]
        }
      ]
    },
    {
      "cell_type": "code",
      "source": [
        "# 알고리즘 변경 해보자. : 로지스틱 회귀(LogisticRegression)\n",
        "# 로지스틱 회귀는 사이킷런에서 제공한다. from sklearn.linear_model import LogisticRegression\n",
        "# 로지스틱 회귀는 이름이 회귀이지만, 분류 모델이다.\n",
        "# 선형회귀와 동일하게 선형방정식을 학습한다.\n",
        "# z = a * (Weight) + b * (Length) + c * (Diagonal) + d * (Height) + e * (Width) + f\n",
        "# a, b, c, d, e, f는 각 항복에 대한 가중치(중요도, 계수)이다.\n",
        "# z는 어떤 값도 가능하다. 하지만 확율이 되려면 0 ~ 1 (0% ~ 100%) 사이값\n",
        "# z가 아주 큰 음수일 때 0, 아주 큰 양수 일때 1이 되되록 바꾸는 방법은 시그모이드 함수, 로지스틱 함수"
      ],
      "metadata": {
        "id": "z2VAh6jnA9PD"
      },
      "execution_count": null,
      "outputs": []
    },
    {
      "cell_type": "code",
      "source": [
        "import numpy as np\n",
        "import matplotlib.pyplot as plt\n",
        "\n",
        "# 시그모이드 함수용 : z가 무한하게 큰 음수 일 경우  0에 가까워진다. z가 무한하게 큰 양수 일 경우 1에 가까워진다.\n",
        "z = np.arange(-5, 5, 0.1)   # -5 ~ 5까지 0.1 간격으로 배열생성\n",
        "phi = 1 / (1 + np.exp(-z))    # np.exp() 함수로 시그모이드 적용\n",
        "\n",
        "plt.plot(z, phi)\n",
        "plt.xlabel('z')\n",
        "plt.ylabel('phi')\n",
        "plt.show()"
      ],
      "metadata": {
        "colab": {
          "base_uri": "https://localhost:8080/",
          "height": 449
        },
        "id": "9JwejBS4DRP6",
        "outputId": "529768f9-9205-45f2-b9ac-5e23d1d72bb0"
      },
      "execution_count": 30,
      "outputs": [
        {
          "output_type": "display_data",
          "data": {
            "text/plain": [
              "<Figure size 640x480 with 1 Axes>"
            ],
            "image/png": "[encoded data removed]"
          },
          "metadata": {}
        }
      ]
    },
    {
      "cell_type": "code",
      "source": [
        "# 선형방정식의 출력 z의 음수를 사용해 자연 상수 e를 거듭제곱하고 1을 더한 값의 역수를 취한다.\n",
        "# 이렇게 하면 0 ~ 1 사이 값을 0 ~ 100% 확률로 해석할 수 있다.\n",
        "\n",
        "# 훈련전에 2진분류부터 알아보자.\n",
        "# 2진 분류잉ㄴ 경우에는 시그모이드 함수 출력이 0.5 보다 크면 양성, 0.5 보다 작으면 음성으로 판단.\n",
        "# 단, 0.5가 나오면 라이브러리마다 다른데 사이킷런은 음성으로 판단한다."
      ],
      "metadata": {
        "id": "aaaQRw0JFC9j"
      },
      "execution_count": 31,
      "outputs": []
    },
    {
      "cell_type": "code",
      "source": [
        "# 로지스틱 회귀로 이진 분류 수행 테스트\n",
        "\n",
        "# 넘파이 배열은 Ture, False 값을 전달하여 행을 선택할 수 있다. (불리언 인덱싱)\n",
        "char_arr = np.array(['A', 'B', 'C', 'D', 'E'])\n",
        "print(char_arr[[True, False, True, False, False]])    # 불리언 인덱싱\n",
        "# 결과 : Ture 값만 출력된다."
      ],
      "metadata": {
        "colab": {
          "base_uri": "https://localhost:8080/"
        },
        "id": "E97oUlOLGJ97",
        "outputId": "87ff1a4f-1f09-4198-cfd2-e4530e56aea4"
      },
      "execution_count": 33,
      "outputs": [
        {
          "output_type": "stream",
          "name": "stdout",
          "text": [
            "['A' 'C']\n"
          ]
        }
      ]
    },
    {
      "cell_type": "code",
      "source": [
        "# 위와 같은 방식으로 훈련 세트에서 도미(Bream)와, 빙어(Smelt)의 행만 골라내보자.\n",
        "bream_smelt_indexes = (train_target == 'Bream') | (train_target == 'Smelt')\n",
        "#                                    Bream(도미) or Smelt(빙어)\n",
        "\n",
        "# bream_smelt_indexs에 도미와 빙어 일경우 True이고 나머지는 False가 들어 있다.\n",
        "# 이 배열을 사용해서 train_scaled, train_target 배열에 인덱싱을 적용하면\n",
        "train_bream_smelt = train_scaled[bream_smelt_indexes]\n",
        "target_bream_smelt = train_target[bream_smelt_indexes]\n",
        "# 손쉽게 도미와 빙어 데이터만 골라낼 수 있다."
      ],
      "metadata": {
        "id": "xL1plxUKG53D"
      },
      "execution_count": 35,
      "outputs": []
    },
    {
      "cell_type": "code",
      "source": [
        "# 사이킷런에 선형모델에 로지스틱 회귀 클래스를 사용\n",
        "from sklearn.linear_model import LogisticRegression\n",
        "\n",
        "lr = LogisticRegression()\n",
        "lr.fit(train_bream_smelt, target_bream_smelt)"
      ],
      "metadata": {
        "colab": {
          "base_uri": "https://localhost:8080/",
          "height": 80
        },
        "id": "vEFQXw6GIM4b",
        "outputId": "23a79753-21ea-435d-bcdf-7961db4a9d11"
      },
      "execution_count": 36,
      "outputs": [
        {
          "output_type": "execute_result",
          "data": {
            "text/plain": [
              "LogisticRegression()"
            ],
            "text/html": [
              "<style>#sk-container-id-1 {\n",
              "  /* Definition of color scheme common for light and dark mode */\n",
              "  --sklearn-color-text: #000;\n",
              "  --sklearn-color-text-muted: #666;\n",
              "  --sklearn-color-line: gray;\n",
              "  /* Definition of color scheme for unfitted estimators */\n",
              "  --sklearn-color-unfitted-level-0: #fff5e6;\n",
              "  --sklearn-color-unfitted-level-1: #f6e4d2;\n",
              "  --sklearn-color-unfitted-level-2: #ffe0b3;\n",
              "  --sklearn-color-unfitted-level-3: chocolate;\n",
              "  /* Definition of color scheme for fitted estimators */\n",
              "  --sklearn-color-fitted-level-0: #f0f8ff;\n",
              "  --sklearn-color-fitted-level-1: #d4ebff;\n",
              "  --sklearn-color-fitted-level-2: #b3dbfd;\n",
              "  --sklearn-color-fitted-level-3: cornflowerblue;\n",
              "\n",
              "  /* Specific color for light theme */\n",
              "  --sklearn-color-text-on-default-background: var(--sg-text-color, var(--theme-code-foreground, var(--jp-content-font-color1, black)));\n",
              "  --sklearn-color-background: var(--sg-background-color, var(--theme-background, var(--jp-layout-color0, white)));\n",
              "  --sklearn-color-border-box: var(--sg-text-color, var(--theme-code-foreground, var(--jp-content-font-color1, black)));\n",
              "  --sklearn-color-icon: #696969;\n",
              "\n",
              "  @media (prefers-color-scheme: dark) {\n",
              "    /* Redefinition of color scheme for dark theme */\n",
              "    --sklearn-color-text-on-default-background: var(--sg-text-color, var(--theme-code-foreground, var(--jp-content-font-color1, white)));\n",
              "    --sklearn-color-background: var(--sg-background-color, var(--theme-background, var(--jp-layout-color0, #111)));\n",
              "    --sklearn-color-border-box: var(--sg-text-color, var(--theme-code-foreground, var(--jp-content-font-color1, white)));\n",
              "    --sklearn-color-icon: #878787;\n",
              "  }\n",
              "}\n",
              "\n",
              "#sk-container-id-1 {\n",
              "  color: var(--sklearn-color-text);\n",
              "}\n",
              "\n",
              "#sk-container-id-1 pre {\n",
              "  padding: 0;\n",
              "}\n",
              "\n",
              "#sk-container-id-1 input.sk-hidden--visually {\n",
              "  border: 0;\n",
              "  clip: rect(1px 1px 1px 1px);\n",
              "  clip: rect(1px, 1px, 1px, 1px);\n",
              "  height: 1px;\n",
              "  margin: -1px;\n",
              "  overflow: hidden;\n",
              "  padding: 0;\n",
              "  position: absolute;\n",
              "  width: 1px;\n",
              "}\n",
              "\n",
              "#sk-container-id-1 div.sk-dashed-wrapped {\n",
              "  border: 1px dashed var(--sklearn-color-line);\n",
              "  margin: 0 0.4em 0.5em 0.4em;\n",
              "  box-sizing: border-box;\n",
              "  padding-bottom: 0.4em;\n",
              "  background-color: var(--sklearn-color-background);\n",
              "}\n",
              "\n",
              "#sk-container-id-1 div.sk-container {\n",
              "  /* jupyter's `normalize.less` sets `[hidden] { display: none; }`\n",
              "     but bootstrap.min.css set `[hidden] { display: none !important; }`\n",
              "     so we also need the `!important` here to be able to override the\n",
              "     default hidden behavior on the sphinx rendered scikit-learn.org.\n",
              "     See: https://github.com/scikit-learn/scikit-learn/issues/21755 */\n",
              "  display: inline-block !important;\n",
              "  position: relative;\n",
              "}\n",
              "\n",
              "#sk-container-id-1 div.sk-text-repr-fallback {\n",
              "  display: none;\n",
              "}\n",
              "\n",
              "div.sk-parallel-item,\n",
              "div.sk-serial,\n",
              "div.sk-item {\n",
              "  /* draw centered vertical line to link estimators */\n",
              "  background-image: linear-gradient(var(--sklearn-color-text-on-default-background), var(--sklearn-color-text-on-default-background));\n",
              "  background-size: 2px 100%;\n",
              "  background-repeat: no-repeat;\n",
              "  background-position: center center;\n",
              "}\n",
              "\n",
              "/* Parallel-specific style estimator block */\n",
              "\n",
              "#sk-container-id-1 div.sk-parallel-item::after {\n",
              "  content: \"\";\n",
              "  width: 100%;\n",
              "  border-bottom: 2px solid var(--sklearn-color-text-on-default-background);\n",
              "  flex-grow: 1;\n",
              "}\n",
              "\n",
              "#sk-container-id-1 div.sk-parallel {\n",
              "  display: flex;\n",
              "  align-items: stretch;\n",
              "  justify-content: center;\n",
              "  background-color: var(--sklearn-color-background);\n",
              "  position: relative;\n",
              "}\n",
              "\n",
              "#sk-container-id-1 div.sk-parallel-item {\n",
              "  display: flex;\n",
              "  flex-direction: column;\n",
              "}\n",
              "\n",
              "#sk-container-id-1 div.sk-parallel-item:first-child::after {\n",
              "  align-self: flex-end;\n",
              "  width: 50%;\n",
              "}\n",
              "\n",
              "#sk-container-id-1 div.sk-parallel-item:last-child::after {\n",
              "  align-self: flex-start;\n",
              "  width: 50%;\n",
              "}\n",
              "\n",
              "#sk-container-id-1 div.sk-parallel-item:only-child::after {\n",
              "  width: 0;\n",
              "}\n",
              "\n",
              "/* Serial-specific style estimator block */\n",
              "\n",
              "#sk-container-id-1 div.sk-serial {\n",
              "  display: flex;\n",
              "  flex-direction: column;\n",
              "  align-items: center;\n",
              "  background-color: var(--sklearn-color-background);\n",
              "  padding-right: 1em;\n",
              "  padding-left: 1em;\n",
              "}\n",
              "\n",
              "\n",
              "/* Toggleable style: style used for estimator/Pipeline/ColumnTransformer box that is\n",
              "clickable and can be expanded/collapsed.\n",
              "- Pipeline and ColumnTransformer use this feature and define the default style\n",
              "- Estimators will overwrite some part of the style using the `sk-estimator` class\n",
              "*/\n",
              "\n",
              "/* Pipeline and ColumnTransformer style (default) */\n",
              "\n",
              "#sk-container-id-1 div.sk-toggleable {\n",
              "  /* Default theme specific background. It is overwritten whether we have a\n",
              "  specific estimator or a Pipeline/ColumnTransformer */\n",
              "  background-color: var(--sklearn-color-background);\n",
              "}\n",
              "\n",
              "/* Toggleable label */\n",
              "#sk-container-id-1 label.sk-toggleable__label {\n",
              "  cursor: pointer;\n",
              "  display: flex;\n",
              "  width: 100%;\n",
              "  margin-bottom: 0;\n",
              "  padding: 0.5em;\n",
              "  box-sizing: border-box;\n",
              "  text-align: center;\n",
              "  align-items: start;\n",
              "  justify-content: space-between;\n",
              "  gap: 0.5em;\n",
              "}\n",
              "\n",
              "#sk-container-id-1 label.sk-toggleable__label .caption {\n",
              "  font-size: 0.6rem;\n",
              "  font-weight: lighter;\n",
              "  color: var(--sklearn-color-text-muted);\n",
              "}\n",
              "\n",
              "#sk-container-id-1 label.sk-toggleable__label-arrow:before {\n",
              "  /* Arrow on the left of the label */\n",
              "  content: \"▸\";\n",
              "  float: left;\n",
              "  margin-right: 0.25em;\n",
              "  color: var(--sklearn-color-icon);\n",
              "}\n",
              "\n",
              "#sk-container-id-1 label.sk-toggleable__label-arrow:hover:before {\n",
              "  color: var(--sklearn-color-text);\n",
              "}\n",
              "\n",
              "/* Toggleable content - dropdown */\n",
              "\n",
              "#sk-container-id-1 div.sk-toggleable__content {\n",
              "  max-height: 0;\n",
              "  max-width: 0;\n",
              "  overflow: hidden;\n",
              "  text-align: left;\n",
              "  /* unfitted */\n",
              "  background-color: var(--sklearn-color-unfitted-level-0);\n",
              "}\n",
              "\n",
              "#sk-container-id-1 div.sk-toggleable__content.fitted {\n",
              "  /* fitted */\n",
              "  background-color: var(--sklearn-color-fitted-level-0);\n",
              "}\n",
              "\n",
              "#sk-container-id-1 div.sk-toggleable__content pre {\n",
              "  margin: 0.2em;\n",
              "  border-radius: 0.25em;\n",
              "  color: var(--sklearn-color-text);\n",
              "  /* unfitted */\n",
              "  background-color: var(--sklearn-color-unfitted-level-0);\n",
              "}\n",
              "\n",
              "#sk-container-id-1 div.sk-toggleable__content.fitted pre {\n",
              "  /* unfitted */\n",
              "  background-color: var(--sklearn-color-fitted-level-0);\n",
              "}\n",
              "\n",
              "#sk-container-id-1 input.sk-toggleable__control:checked~div.sk-toggleable__content {\n",
              "  /* Expand drop-down */\n",
              "  max-height: 200px;\n",
              "  max-width: 100%;\n",
              "  overflow: auto;\n",
              "}\n",
              "\n",
              "#sk-container-id-1 input.sk-toggleable__control:checked~label.sk-toggleable__label-arrow:before {\n",
              "  content: \"▾\";\n",
              "}\n",
              "\n",
              "/* Pipeline/ColumnTransformer-specific style */\n",
              "\n",
              "#sk-container-id-1 div.sk-label input.sk-toggleable__control:checked~label.sk-toggleable__label {\n",
              "  color: var(--sklearn-color-text);\n",
              "  background-color: var(--sklearn-color-unfitted-level-2);\n",
              "}\n",
              "\n",
              "#sk-container-id-1 div.sk-label.fitted input.sk-toggleable__control:checked~label.sk-toggleable__label {\n",
              "  background-color: var(--sklearn-color-fitted-level-2);\n",
              "}\n",
              "\n",
              "/* Estimator-specific style */\n",
              "\n",
              "/* Colorize estimator box */\n",
              "#sk-container-id-1 div.sk-estimator input.sk-toggleable__control:checked~label.sk-toggleable__label {\n",
              "  /* unfitted */\n",
              "  background-color: var(--sklearn-color-unfitted-level-2);\n",
              "}\n",
              "\n",
              "#sk-container-id-1 div.sk-estimator.fitted input.sk-toggleable__control:checked~label.sk-toggleable__label {\n",
              "  /* fitted */\n",
              "  background-color: var(--sklearn-color-fitted-level-2);\n",
              "}\n",
              "\n",
              "#sk-container-id-1 div.sk-label label.sk-toggleable__label,\n",
              "#sk-container-id-1 div.sk-label label {\n",
              "  /* The background is the default theme color */\n",
              "  color: var(--sklearn-color-text-on-default-background);\n",
              "}\n",
              "\n",
              "/* On hover, darken the color of the background */\n",
              "#sk-container-id-1 div.sk-label:hover label.sk-toggleable__label {\n",
              "  color: var(--sklearn-color-text);\n",
              "  background-color: var(--sklearn-color-unfitted-level-2);\n",
              "}\n",
              "\n",
              "/* Label box, darken color on hover, fitted */\n",
              "#sk-container-id-1 div.sk-label.fitted:hover label.sk-toggleable__label.fitted {\n",
              "  color: var(--sklearn-color-text);\n",
              "  background-color: var(--sklearn-color-fitted-level-2);\n",
              "}\n",
              "\n",
              "/* Estimator label */\n",
              "\n",
              "#sk-container-id-1 div.sk-label label {\n",
              "  font-family: monospace;\n",
              "  font-weight: bold;\n",
              "  display: inline-block;\n",
              "  line-height: 1.2em;\n",
              "}\n",
              "\n",
              "#sk-container-id-1 div.sk-label-container {\n",
              "  text-align: center;\n",
              "}\n",
              "\n",
              "/* Estimator-specific */\n",
              "#sk-container-id-1 div.sk-estimator {\n",
              "  font-family: monospace;\n",
              "  border: 1px dotted var(--sklearn-color-border-box);\n",
              "  border-radius: 0.25em;\n",
              "  box-sizing: border-box;\n",
              "  margin-bottom: 0.5em;\n",
              "  /* unfitted */\n",
              "  background-color: var(--sklearn-color-unfitted-level-0);\n",
              "}\n",
              "\n",
              "#sk-container-id-1 div.sk-estimator.fitted {\n",
              "  /* fitted */\n",
              "  background-color: var(--sklearn-color-fitted-level-0);\n",
              "}\n",
              "\n",
              "/* on hover */\n",
              "#sk-container-id-1 div.sk-estimator:hover {\n",
              "  /* unfitted */\n",
              "  background-color: var(--sklearn-color-unfitted-level-2);\n",
              "}\n",
              "\n",
              "#sk-container-id-1 div.sk-estimator.fitted:hover {\n",
              "  /* fitted */\n",
              "  background-color: var(--sklearn-color-fitted-level-2);\n",
              "}\n",
              "\n",
              "/* Specification for estimator info (e.g. \"i\" and \"?\") */\n",
              "\n",
              "/* Common style for \"i\" and \"?\" */\n",
              "\n",
              ".sk-estimator-doc-link,\n",
              "a:link.sk-estimator-doc-link,\n",
              "a:visited.sk-estimator-doc-link {\n",
              "  float: right;\n",
              "  font-size: smaller;\n",
              "  line-height: 1em;\n",
              "  font-family: monospace;\n",
              "  background-color: var(--sklearn-color-background);\n",
              "  border-radius: 1em;\n",
              "  height: 1em;\n",
              "  width: 1em;\n",
              "  text-decoration: none !important;\n",
              "  margin-left: 0.5em;\n",
              "  text-align: center;\n",
              "  /* unfitted */\n",
              "  border: var(--sklearn-color-unfitted-level-1) 1pt solid;\n",
              "  color: var(--sklearn-color-unfitted-level-1);\n",
              "}\n",
              "\n",
              ".sk-estimator-doc-link.fitted,\n",
              "a:link.sk-estimator-doc-link.fitted,\n",
              "a:visited.sk-estimator-doc-link.fitted {\n",
              "  /* fitted */\n",
              "  border: var(--sklearn-color-fitted-level-1) 1pt solid;\n",
              "  color: var(--sklearn-color-fitted-level-1);\n",
              "}\n",
              "\n",
              "/* On hover */\n",
              "div.sk-estimator:hover .sk-estimator-doc-link:hover,\n",
              ".sk-estimator-doc-link:hover,\n",
              "div.sk-label-container:hover .sk-estimator-doc-link:hover,\n",
              ".sk-estimator-doc-link:hover {\n",
              "  /* unfitted */\n",
              "  background-color: var(--sklearn-color-unfitted-level-3);\n",
              "  color: var(--sklearn-color-background);\n",
              "  text-decoration: none;\n",
              "}\n",
              "\n",
              "div.sk-estimator.fitted:hover .sk-estimator-doc-link.fitted:hover,\n",
              ".sk-estimator-doc-link.fitted:hover,\n",
              "div.sk-label-container:hover .sk-estimator-doc-link.fitted:hover,\n",
              ".sk-estimator-doc-link.fitted:hover {\n",
              "  /* fitted */\n",
              "  background-color: var(--sklearn-color-fitted-level-3);\n",
              "  color: var(--sklearn-color-background);\n",
              "  text-decoration: none;\n",
              "}\n",
              "\n",
              "/* Span, style for the box shown on hovering the info icon */\n",
              ".sk-estimator-doc-link span {\n",
              "  display: none;\n",
              "  z-index: 9999;\n",
              "  position: relative;\n",
              "  font-weight: normal;\n",
              "  right: .2ex;\n",
              "  padding: .5ex;\n",
              "  margin: .5ex;\n",
              "  width: min-content;\n",
              "  min-width: 20ex;\n",
              "  max-width: 50ex;\n",
              "  color: var(--sklearn-color-text);\n",
              "  box-shadow: 2pt 2pt 4pt #999;\n",
              "  /* unfitted */\n",
              "  background: var(--sklearn-color-unfitted-level-0);\n",
              "  border: .5pt solid var(--sklearn-color-unfitted-level-3);\n",
              "}\n",
              "\n",
              ".sk-estimator-doc-link.fitted span {\n",
              "  /* fitted */\n",
              "  background: var(--sklearn-color-fitted-level-0);\n",
              "  border: var(--sklearn-color-fitted-level-3);\n",
              "}\n",
              "\n",
              ".sk-estimator-doc-link:hover span {\n",
              "  display: block;\n",
              "}\n",
              "\n",
              "/* \"?\"-specific style due to the `<a>` HTML tag */\n",
              "\n",
              "#sk-container-id-1 a.estimator_doc_link {\n",
              "  float: right;\n",
              "  font-size: 1rem;\n",
              "  line-height: 1em;\n",
              "  font-family: monospace;\n",
              "  background-color: var(--sklearn-color-background);\n",
              "  border-radius: 1rem;\n",
              "  height: 1rem;\n",
              "  width: 1rem;\n",
              "  text-decoration: none;\n",
              "  /* unfitted */\n",
              "  color: var(--sklearn-color-unfitted-level-1);\n",
              "  border: var(--sklearn-color-unfitted-level-1) 1pt solid;\n",
              "}\n",
              "\n",
              "#sk-container-id-1 a.estimator_doc_link.fitted {\n",
              "  /* fitted */\n",
              "  border: var(--sklearn-color-fitted-level-1) 1pt solid;\n",
              "  color: var(--sklearn-color-fitted-level-1);\n",
              "}\n",
              "\n",
              "/* On hover */\n",
              "#sk-container-id-1 a.estimator_doc_link:hover {\n",
              "  /* unfitted */\n",
              "  background-color: var(--sklearn-color-unfitted-level-3);\n",
              "  color: var(--sklearn-color-background);\n",
              "  text-decoration: none;\n",
              "}\n",
              "\n",
              "#sk-container-id-1 a.estimator_doc_link.fitted:hover {\n",
              "  /* fitted */\n",
              "  background-color: var(--sklearn-color-fitted-level-3);\n",
              "}\n",
              "</style><div id=\"sk-container-id-1\" class=\"sk-top-container\"><div class=\"sk-text-repr-fallback\"><pre>LogisticRegression()</pre><b>In a Jupyter environment, please rerun this cell to show the HTML representation or trust the notebook. <br />On GitHub, the HTML representation is unable to render, please try loading this page with nbviewer.org.</b></div><div class=\"sk-container\" hidden><div class=\"sk-item\"><div class=\"sk-estimator fitted sk-toggleable\"><input class=\"sk-toggleable__control sk-hidden--visually\" id=\"sk-estimator-id-1\" type=\"checkbox\" checked><label for=\"sk-estimator-id-1\" class=\"sk-toggleable__label fitted sk-toggleable__label-arrow\"><div><div>LogisticRegression</div></div><div><a class=\"sk-estimator-doc-link fitted\" rel=\"noreferrer\" target=\"_blank\" href=\"https://scikit-learn.org/1.6/modules/generated/sklearn.linear_model.LogisticRegression.html\">?<span>Documentation for LogisticRegression</span></a><span class=\"sk-estimator-doc-link fitted\">i<span>Fitted</span></span></div></label><div class=\"sk-toggleable__content fitted\"><pre>LogisticRegression()</pre></div> </div></div></div></div>"
            ]
          },
          "metadata": {},
          "execution_count": 36
        }
      ]
    },
    {
      "cell_type": "code",
      "source": [
        "# train_bream_smelt 처음 5개의 값으로 결론을 보자.\n",
        "print(lr.predict(train_bream_smelt[:5]))    # 도미 4개, 빙어 1개"
      ],
      "metadata": {
        "colab": {
          "base_uri": "https://localhost:8080/"
        },
        "id": "cCWWg-kALGEa",
        "outputId": "5eab938f-7bc5-4d36-e2f7-5e801946c291"
      },
      "execution_count": 38,
      "outputs": [
        {
          "output_type": "stream",
          "name": "stdout",
          "text": [
            "['Bream' 'Smelt' 'Bream' 'Bream' 'Bream']\n"
          ]
        }
      ]
    },
    {
      "cell_type": "code",
      "source": [
        "print(lr.predict_proba(train_bream_smelt[:5]))    # 확율 확인(predict_proba)"
      ],
      "metadata": {
        "colab": {
          "base_uri": "https://localhost:8080/"
        },
        "id": "KErlpGd6Ngji",
        "outputId": "74807079-a0d5-419b-e211-6cf56a6a34dd"
      },
      "execution_count": 39,
      "outputs": [
        {
          "output_type": "stream",
          "name": "stdout",
          "text": [
            "[[0.99760007 0.00239993]\n",
            " [0.02737325 0.97262675]\n",
            " [0.99486386 0.00513614]\n",
            " [0.98585047 0.01414953]\n",
            " [0.99767419 0.00232581]]\n"
          ]
        }
      ]
    },
    {
      "cell_type": "code",
      "source": [
        "# 샘플마다 2개의 확율이 출력된다. (시그모이드 함수)\n",
        "# 첫번째 열이 0(음석)에 대한 확율, 두번째 열이 1(양성)에 대한 확율임\n",
        "# 사이킷런의 타깃 값은 알파벳 순으로 정렬해서 사용한다.\n",
        "print(lr.classes_)    # Smelt(빙어)가 양성으로 사용된다.\n",
        "# 두번 째 심플만 양성 클래스인 빙어의 확률이 높다. (나머지는 도미로 예측한다.)\n",
        "# 만약 도미(Bream)를 양성 클래스로 사용하고 싶으면 전에 전처리에서 Bream인 타깃값을 1로 만들어야 한다."
      ],
      "metadata": {
        "colab": {
          "base_uri": "https://localhost:8080/"
        },
        "id": "q2Tp7AjQOLnh",
        "outputId": "dcad8b70-1cc3-4438-865b-251cd5d64d91"
      },
      "execution_count": 41,
      "outputs": [
        {
          "output_type": "stream",
          "name": "stdout",
          "text": [
            "['Bream' 'Smelt']\n"
          ]
        }
      ]
    },
    {
      "cell_type": "code",
      "source": [
        "# 로지스틱 회귀로 학습한 계수(중요도)를 알아보자.\n",
        "print(lr.coef_, lr.intercept_)"
      ],
      "metadata": {
        "colab": {
          "base_uri": "https://localhost:8080/"
        },
        "id": "Fg3vi8pzOcSZ",
        "outputId": "a61e819c-a5ed-45c7-cf10-62ccfec2c9ed"
      },
      "execution_count": 43,
      "outputs": [
        {
          "output_type": "stream",
          "name": "stdout",
          "text": [
            "[[-0.40451732 -0.57582787 -0.66248158 -1.01329614 -0.73123131]] [-2.16172774]\n"
          ]
        }
      ]
    },
    {
      "cell_type": "code",
      "source": [
        "# [[-0.40451732 -0.57582787 -0.66248158 -1.01329614 -0.73123131]] [-2.16172774]\n",
        "# 선형 방정식에 대입해서 결과가 나온다.\n",
        "# z = a * (Weight) + b * (Length) + c * (Diagonal) + d * (Height) + e * (Width) + f\n",
        "# z = -0.40451732 * (Weight) + -0.57582787 * (Length) + -0.66248158 * (Diagonal) + -1.01329614 * (Height) + -0.73123131 * (Width) + -2.16172774 로 가중치가 결정됨\n",
        "#      -1.01329614 * (Height) + 0.73123131 * (Width) + 2.16172774로 가중치가 결정된다.\n",
        "\n",
        "decisions = lr.decision_function(train_bream_smelt[:5])\n",
        "# train_bream_smelt의 처음 5개의 z값을 출력해보자.\n",
        "print(decisions)"
      ],
      "metadata": {
        "colab": {
          "base_uri": "https://localhost:8080/"
        },
        "id": "2GHpsWNSPzf5",
        "outputId": "00e4ae08-e2bb-404e-cb12-971561e1f0c6"
      },
      "execution_count": 45,
      "outputs": [
        {
          "output_type": "stream",
          "name": "stdout",
          "text": [
            "[-6.02991358  3.57043428 -5.26630496 -4.24382314 -6.06135688]\n"
          ]
        }
      ]
    },
    {
      "cell_type": "code",
      "source": [
        "# 이 z값을 시그모이드 함수에 통과 시키면 확율을 얻을 수 있다.\n",
        "# 파이썬의 사이파이(scipy) 라이브러리에도 시그모이드 함수가 있다. -> expit()\n",
        "from scipy.special import expit\n",
        "\n",
        "print(expit(decisions))\n",
        "# 여기까지가 2개의 물고기 분류하는 방법이다.\n",
        "#  도미       빙어       도미       도미       도미\n",
        "# [0.00239993 0.97262675 0.00513614 0.01414953 0.00232581]"
      ],
      "metadata": {
        "colab": {
          "base_uri": "https://localhost:8080/"
        },
        "id": "0wxILWukQxpJ",
        "outputId": "d0ab2240-4951-4b2a-db28-9afe027e13f2"
      },
      "execution_count": 47,
      "outputs": [
        {
          "output_type": "stream",
          "name": "stdout",
          "text": [
            "[0.00239993 0.97262675 0.00513614 0.01414953 0.00232581]\n"
          ]
        }
      ]
    },
    {
      "cell_type": "code",
      "source": [
        "# 다중분류로 진행 해보자. (2진분류는 True 아니면 모두 False 처리됨)\n",
        "# 현재 어종이 8개 임으로 로지스틱 회귀로 분류를 학습한다.\n",
        "\n",
        "# LogisticRegression 클래스는 기본적으로 반복적인 알고리즘을 사용한다. (max_iter=100)\n",
        "# max_iter = 100 반복횟수를 100으로 하면 부족하다라는 경고 문구가 나와 1000으로 향상\n",
        "# LogisticRegression 기본적으로 릿지 회귀와 같은 계수를 제곱을 규제한다. (L2 규제)\n",
        "# 릿지 회귀에서는 alpha 매개변수로 규제의 양을 조절 하였다. ->  alpha가 크면 규제도 커진다.\n",
        "# LogisticRegression 규제를 제어하는 매개변수가 C 로 되어있다. -> C가 적우묜 규제가 커진다.(기본1)\n",
        "# 규제를 완화하기 위해서 20으로 늘리겠다.\n",
        "\n",
        "lr = LogisticRegression(C=20, max_iter=1000)    # max_iter=1000 정확도를 위해서 1000번 반복\n",
        "lr.fit(train_scaled, train_target)\n",
        "\n",
        "print(lr.score(train_scaled, train_target))    # 93%\n",
        "print(lr.score(test_scaled, test_target))   # 92.5% 과소나 과대적합이 아닌듯하다."
      ],
      "metadata": {
        "colab": {
          "base_uri": "https://localhost:8080/"
        },
        "id": "KChlOBiiSCph",
        "outputId": "c4020787-cb4b-434f-d423-456d672b2cee"
      },
      "execution_count": 50,
      "outputs": [
        {
          "output_type": "stream",
          "name": "stdout",
          "text": [
            "0.9327731092436975\n",
            "0.925\n"
          ]
        }
      ]
    },
    {
      "cell_type": "code",
      "source": [
        "print(lr.predict(test_scaled[:5]))    # 결과 분석시 다중 분류로 나온다."
      ],
      "metadata": {
        "colab": {
          "base_uri": "https://localhost:8080/"
        },
        "id": "sDB5QQWJUO8x",
        "outputId": "f391b790-0bbd-4ac8-c75a-7e47a48bbe85"
      },
      "execution_count": 52,
      "outputs": [
        {
          "output_type": "stream",
          "name": "stdout",
          "text": [
            "['Perch' 'Smelt' 'Pike' 'Roach' 'Perch']\n"
          ]
        }
      ]
    },
    {
      "cell_type": "code",
      "source": [
        "proba = lr.predict_proba(test_scaled[:5])\n",
        "print(np.round(proba, decimals=3))\n",
        "# Bream Parkki Perch Pike Roach Smelt Whitefish\n",
        "# [[0.    0.014 0.842 0.    0.135 0.007 0.003]\n",
        "#  [0.    0.003 0.044 0.    0.007 0.946 0.   ]\n",
        "# [0.    0.    0.034 0.934 0.015 0.016 0.   ]\n",
        "# [0.011 0.034 0.305 0.006 0.567 0.    0.076]\n",
        "# [0.    0.    0.904 0.002 0.089 0.002 0.001]]"
      ],
      "metadata": {
        "colab": {
          "base_uri": "https://localhost:8080/"
        },
        "id": "JybvPb_2UfIx",
        "outputId": "41b3bf7f-0059-4a9b-acb8-1e39c737afe9"
      },
      "execution_count": 55,
      "outputs": [
        {
          "output_type": "stream",
          "name": "stdout",
          "text": [
            "[[0.    0.014 0.842 0.    0.135 0.007 0.003]\n",
            " [0.    0.003 0.044 0.    0.007 0.946 0.   ]\n",
            " [0.    0.    0.034 0.934 0.015 0.016 0.   ]\n",
            " [0.011 0.034 0.305 0.006 0.567 0.    0.076]\n",
            " [0.    0.    0.904 0.002 0.089 0.002 0.001]]\n"
          ]
        }
      ]
    },
    {
      "cell_type": "code",
      "source": [
        "print(lr.classes_)    # 알파벳 순으로 정렬되어 보인다.\n",
        "# 7개의 클래스가 명확하게 구분이 된다."
      ],
      "metadata": {
        "colab": {
          "base_uri": "https://localhost:8080/"
        },
        "id": "l8R1-8KQVCLp",
        "outputId": "f980e131-e21d-42ea-c3ca-9032676b9a0d"
      },
      "execution_count": 58,
      "outputs": [
        {
          "output_type": "stream",
          "name": "stdout",
          "text": [
            "['Bream' 'Parkki' 'Perch' 'Pike' 'Roach' 'Smelt' 'Whitefish']\n"
          ]
        }
      ]
    },
    {
      "cell_type": "code",
      "source": [
        "# 다중 분류일 때 선형방정식\n",
        "print(lr.coef_.shape, lr.intercept_.shape)\n",
        "# (7, 5)이 데이터는 5개의 특성을 사용한다. 7행을 가진다.\n",
        "#(7,)   7개의 행 -> 이진 분류에서 보았던 Z을 7개를 계산한다.\n",
        "# 다중 분류는 클래스마다 Z값을 하나씩 계산한다는 의미다.\n",
        "# 당연히 가장 높은 z값을 출력하는 클래스가 예츨 클래스가 된다."
      ],
      "metadata": {
        "colab": {
          "base_uri": "https://localhost:8080/"
        },
        "id": "h4gfM0eLVoFJ",
        "outputId": "a4db4093-e5cc-4e2b-9979-ebb3f215a8c5"
      },
      "execution_count": 60,
      "outputs": [
        {
          "output_type": "stream",
          "name": "stdout",
          "text": [
            "(7, 5) (7,)\n"
          ]
        }
      ]
    },
    {
      "cell_type": "code",
      "source": [
        "# 그럼 확률은 ? 이진 분류에서는 시그모이드 함수를 사용해 z를 0과 1사이 값으로 변환 했었다.\n",
        "# 그러나 다중 분류에서 소프트맥스 함수를 사용해서 7개의 z값을 확률로 변환한다.\n",
        "# 소프트맥스 계산법\n",
        "# e_sim = e^z1 + e^z2 + e^3 + e^z4 + e^z5 + e^z6 + e^z7\n",
        "# s1 = e^z1 / e_sum ...... s7 = e^z7 / e_sum ->  s1 ~ s7 까지 모두 더하면 분모가 같아져 1이 된다."
      ],
      "metadata": {
        "id": "1-AEt9NMWV-J"
      },
      "execution_count": 61,
      "outputs": []
    },
    {
      "cell_type": "markdown",
      "source": [
        "![image.png](data:image/png;base64,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)"
      ],
      "metadata": {
        "id": "XqgzSC1NXBnh"
      }
    },
    {
      "cell_type": "code",
      "source": [
        "decision = lr.decision_function(test_scaled[:5])\n",
        "print(np.round(decision, decimals=2))\n",
        "for idx,z in enumerate(decision) :\n",
        "    print(f\"{idx}번째 샘플의 z값\\n{z}\\n\")"
      ],
      "metadata": {
        "colab": {
          "base_uri": "https://localhost:8080/"
        },
        "id": "07KM1MUkXj0Y",
        "outputId": "3928cfa2-ebf3-423b-e378-2055da561adf"
      },
      "execution_count": 67,
      "outputs": [
        {
          "output_type": "stream",
          "name": "stdout",
          "text": [
            "[[ -6.51   1.04   5.17  -2.76   3.34   0.35  -0.63]\n",
            " [-10.88   1.94   4.78  -2.42   2.99   7.84  -4.25]\n",
            " [ -4.34  -6.24   3.17   6.48   2.36   2.43  -3.87]\n",
            " [ -0.69   0.45   2.64  -1.21   3.26  -5.7    1.26]\n",
            " [ -6.4   -1.99   5.82  -0.13   3.5   -0.09  -0.7 ]]\n",
            "0번째 샘플의 z값\n",
            "[-6.50722814  1.03902666  5.16819138 -2.75730346  3.33655201  0.34625859\n",
            " -0.62549704]\n",
            "\n",
            "1번째 샘플의 z값\n",
            "[-10.87900747   1.94410609   4.77600607  -2.42306183   2.98748716\n",
            "   7.84171377  -4.24724379]\n",
            "\n",
            "2번째 샘플의 z값\n",
            "[-4.33809959 -6.23690282  3.16746648  6.48091391  2.36412675  2.43431898\n",
            " -3.87182371]\n",
            "\n",
            "3번째 샘플의 z값\n",
            "[-0.69143994  0.44628533  2.64291146 -1.21457286  3.2612452  -5.70143404\n",
            "  1.25700485]\n",
            "\n",
            "4번째 샘플의 z값\n",
            "[-6.40138612 -1.99137623  5.81526372 -0.134644    3.49905134 -0.08753485\n",
            " -0.69937385]\n",
            "\n"
          ]
        }
      ]
    },
    {
      "cell_type": "code",
      "source": [
        "from scipy.special import softmax\n",
        "print(\"소프트맥스 함수로 예측 확률 구하기\\n\")\n",
        "class_ = lr.classes_.tolist() + [\"예측 결과\"]\n",
        "prd = lr.predict(test_scaled[:5]).reshape(5, -1)\n",
        "sm = softmax(decision, axis=1).round(2) * 100\n",
        "con = np.column_stack((sm,prd))\n",
        "print(pd.DataFrame(con,columns=class_))\n",
        "\n",
        "# 소프트맥스 함수로 예측 확률 구하기\n",
        "#  Bream Parkki Perch  Pike Roach Smelt Whitefish  예측 결과\n",
        "# 0   0.0    1.0  84.0   0.0  13.0   1.0       0.0  Perch\n",
        "# 1   0.0    0.0   4.0   0.0   1.0  95.0       0.0  Smelt\n",
        "# 2   0.0    0.0   3.0  93.0   2.0   2.0       0.0   Pike\n",
        "# 3   1.0    3.0  31.0   1.0  57.0   0.0       8.0  Roach\n",
        "# 4   0.0    0.0  90.0   0.0   9.0   0.0       0.0  Perch\n"
      ],
      "metadata": {
        "colab": {
          "base_uri": "https://localhost:8080/"
        },
        "id": "zI2aR96oYn5L",
        "outputId": "bd58dd76-4007-465f-810b-681ba311f7f1"
      },
      "execution_count": 70,
      "outputs": [
        {
          "output_type": "stream",
          "name": "stdout",
          "text": [
            "소프트맥스 함수로 예측 확률 구하기\n",
            "\n",
            "  Bream Parkki Perch  Pike Roach Smelt Whitefish  예측 결과\n",
            "0   0.0    1.0  84.0   0.0  13.0   1.0       0.0  Perch\n",
            "1   0.0    0.0   4.0   0.0   1.0  95.0       0.0  Smelt\n",
            "2   0.0    0.0   3.0  93.0   2.0   2.0       0.0   Pike\n",
            "3   1.0    3.0  31.0   1.0  57.0   0.0       8.0  Roach\n",
            "4   0.0    0.0  90.0   0.0   9.0   0.0       0.0  Perch\n"
          ]
        }
      ]
    },
    {
      "cell_type": "code",
      "source": [],
      "metadata": {
        "id": "sFj3w6Aphy6_"
      },
      "execution_count": null,
      "outputs": []
    }
  ]
}